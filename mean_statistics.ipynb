{
 "cells": [
  {
   "cell_type": "code",
   "execution_count": 1,
   "metadata": {},
   "outputs": [],
   "source": [
    "from pathlib import Path\n",
    "\n",
    "BASE_DIR = Path.cwd()\n",
    "data_path = BASE_DIR / \"data\" / \"statcast_switch_split.csv\""
   ]
  },
  {
   "cell_type": "code",
   "execution_count": 2,
   "metadata": {},
   "outputs": [
    {
     "name": "stdout",
     "output_type": "stream",
     "text": [
      "             game_date  release_speed  release_pos_x  release_pos_z  \\\n",
      "pitch_type                                                            \n",
      "FF          2024-04-02           95.0          -2.01           5.22   \n",
      "CH          2024-04-02           88.5          -2.09           4.95   \n",
      "SI          2024-04-02           95.0          -2.02           5.12   \n",
      "KC          2024-04-02           80.8          -3.13           5.61   \n",
      "FF          2024-04-02           95.4          -1.95           5.12   \n",
      "...                ...            ...            ...            ...   \n",
      "FF          2024-10-30           95.6          -2.76           6.15   \n",
      "SI          2024-10-30           96.0          -0.72           6.67   \n",
      "FF          2024-10-30           95.8          -1.55           5.85   \n",
      "SL          2024-10-30           85.9           2.78           5.53   \n",
      "CH          2024-10-30           86.7          -2.34           5.70   \n",
      "\n",
      "                   player_name  batter  pitcher     events      description  \\\n",
      "pitch_type                                                                    \n",
      "FF           Rocchio, Brayan-L  677587   622491     single    hit_into_play   \n",
      "CH           Rocchio, Brayan-L  677587   622491        NaN             foul   \n",
      "SI           Rocchio, Brayan-L  677587   622491        NaN    called_strike   \n",
      "KC              Rizzo, Anthony  519203   668678  field_out    hit_into_play   \n",
      "FF              Hedges, Austin  595978   622491  strikeout         foul_tip   \n",
      "...                        ...     ...      ...        ...              ...   \n",
      "FF              Ohtani, Shohei  660271   543037  field_out    hit_into_play   \n",
      "SI          Hernández, Teoscar  606192   605280        NaN             ball   \n",
      "FF                  Lux, Gavin  666158   596133        NaN             ball   \n",
      "SL             Torres, Gleyber  650402   607455        NaN  swinging_strike   \n",
      "CH          Hernández, Enrique  571771   592454        NaN    called_strike   \n",
      "\n",
      "            spin_dir  ...  n_thruorder_pitcher  \\\n",
      "pitch_type            ...                        \n",
      "FF               NaN  ...                    3   \n",
      "CH               NaN  ...                    3   \n",
      "SI               NaN  ...                    3   \n",
      "KC               NaN  ...                    3   \n",
      "FF               NaN  ...                    3   \n",
      "...              ...  ...                  ...   \n",
      "FF               NaN  ...                    1   \n",
      "SI               NaN  ...                    1   \n",
      "FF               NaN  ...                    1   \n",
      "SL               NaN  ...                    1   \n",
      "CH               NaN  ...                    1   \n",
      "\n",
      "            n_priorpa_thisgame_player_at_bat  pitcher_days_since_prev_game  \\\n",
      "pitch_type                                                                   \n",
      "FF                                         2                           5.0   \n",
      "CH                                         2                           5.0   \n",
      "SI                                         2                           5.0   \n",
      "KC                                         2                           5.0   \n",
      "FF                                         2                           5.0   \n",
      "...                                      ...                           ...   \n",
      "FF                                         0                           5.0   \n",
      "SI                                         3                           1.0   \n",
      "FF                                         3                           1.0   \n",
      "SL                                         1                           2.0   \n",
      "CH                                         3                           2.0   \n",
      "\n",
      "            batter_days_since_prev_game pitcher_days_until_next_game  \\\n",
      "pitch_type                                                             \n",
      "FF                                  1.0                          6.0   \n",
      "CH                                  1.0                          6.0   \n",
      "SI                                  1.0                          6.0   \n",
      "KC                                  1.0                          6.0   \n",
      "FF                                  3.0                          6.0   \n",
      "...                                 ...                          ...   \n",
      "FF                                  1.0                          NaN   \n",
      "SI                                  1.0                          NaN   \n",
      "FF                                  1.0                          NaN   \n",
      "SL                                  1.0                          NaN   \n",
      "CH                                  1.0                          NaN   \n",
      "\n",
      "           batter_days_until_next_game api_break_z_with_gravity  \\\n",
      "pitch_type                                                        \n",
      "FF                                 1.0                     1.32   \n",
      "CH                                 1.0                     2.82   \n",
      "SI                                 1.0                     2.37   \n",
      "KC                                 1.0                     4.61   \n",
      "FF                                 6.0                     1.59   \n",
      "...                                ...                      ...   \n",
      "FF                                 NaN                     1.00   \n",
      "SI                                 NaN                     2.16   \n",
      "FF                                 NaN                     0.75   \n",
      "SL                                 NaN                     4.06   \n",
      "CH                                 NaN                     3.39   \n",
      "\n",
      "           api_break_x_arm api_break_x_batter_in arm_angle  \n",
      "pitch_type                                                  \n",
      "FF                    0.85                 -0.85      19.4  \n",
      "CH                    1.40                 -1.40      14.4  \n",
      "SI                    1.48                 -1.48      21.9  \n",
      "KC                   -0.50                  0.50      36.3  \n",
      "FF                    1.08                  1.08      17.5  \n",
      "...                    ...                   ...       ...  \n",
      "FF                    0.69                 -0.69      41.8  \n",
      "SI                    1.62                  1.62      49.4  \n",
      "FF                    0.37                 -0.37      49.2  \n",
      "SL                   -0.70                  0.70      31.3  \n",
      "CH                    0.93                  0.93      34.4  \n",
      "\n",
      "[701557 rows x 112 columns]\n"
     ]
    }
   ],
   "source": [
    "import pandas as pd\n",
    "\n",
    "data = pd.read_csv(data_path, index_col=0)\n",
    "print(data)"
   ]
  },
  {
   "cell_type": "code",
   "execution_count": 3,
   "metadata": {},
   "outputs": [
    {
     "name": "stdout",
     "output_type": "stream",
     "text": [
      "379001\n",
      "379001\n",
      "466218\n",
      "466527\n",
      "464967\n",
      "465004\n"
     ]
    }
   ],
   "source": [
    "print(data['bat_speed'].isnull().sum())\n",
    "print(data['swing_length'].isnull().sum())\n",
    "print(data['launch_angle'].isnull().sum())\n",
    "print(data['launch_speed'].isnull().sum())\n",
    "print(data['hyper_speed'].isnull().sum())\n",
    "print(data['hit_distance_sc'].isnull().sum())"
   ]
  },
  {
   "cell_type": "code",
   "execution_count": 4,
   "metadata": {},
   "outputs": [
    {
     "name": "stdout",
     "output_type": "stream",
     "text": [
      "69.4810894852367\n",
      "7.216296085020898\n"
     ]
    }
   ],
   "source": [
    "print(data['bat_speed'].mean())\n",
    "print(data['swing_length'].mean())"
   ]
  },
  {
   "cell_type": "code",
   "execution_count": 5,
   "metadata": {},
   "outputs": [
    {
     "name": "stdout",
     "output_type": "stream",
     "text": [
      "['single' nan 'field_out' 'strikeout' 'walk' 'home_run' 'force_out'\n",
      " 'field_error' 'double' 'grounded_into_double_play' 'hit_by_pitch'\n",
      " 'catcher_interf' 'triple' 'sac_fly' 'double_play' 'sac_bunt'\n",
      " 'fielders_choice' 'truncated_pa' 'fielders_choice_out'\n",
      " 'strikeout_double_play' 'sac_fly_double_play' 'triple_play']\n",
      "\n",
      "['hit_into_play' 'foul' 'called_strike' 'foul_tip' 'ball'\n",
      " 'swinging_strike' 'blocked_ball' 'swinging_strike_blocked' 'hit_by_pitch'\n",
      " 'foul_bunt' 'pitchout' 'missed_bunt' 'bunt_foul_tip']\n"
     ]
    }
   ],
   "source": [
    "print(data[\"events\"].unique())\n",
    "print('')\n",
    "print(data[\"description\"].unique())"
   ]
  },
  {
   "cell_type": "code",
   "execution_count": 6,
   "metadata": {},
   "outputs": [
    {
     "name": "stdout",
     "output_type": "stream",
     "text": [
      "             game_date  release_speed  release_pos_x  release_pos_z  \\\n",
      "pitch_type                                                            \n",
      "FF          2024-04-02           95.0          -2.01           5.22   \n",
      "KC          2024-04-02           80.8          -3.13           5.61   \n",
      "FC          2024-04-02           91.4           2.30           6.31   \n",
      "SI          2024-04-02           96.3           2.23           5.96   \n",
      "FF          2024-04-02           96.1           2.15           6.23   \n",
      "...                ...            ...            ...            ...   \n",
      "SL          2024-10-30           86.0          -2.33           5.43   \n",
      "FF          2024-10-30           94.0           0.06           5.99   \n",
      "CH          2024-10-30           88.3          -2.49           5.53   \n",
      "FF          2024-10-30           95.5          -1.78           5.85   \n",
      "FF          2024-10-30           95.6          -2.76           6.15   \n",
      "\n",
      "                   player_name  batter  pitcher     events    description  \\\n",
      "pitch_type                                                                  \n",
      "FF           Rocchio, Brayan-L  677587   622491     single  hit_into_play   \n",
      "KC              Rizzo, Anthony  519203   668678  field_out  hit_into_play   \n",
      "FC          Harris II, Michael  671739   676979  field_out  hit_into_play   \n",
      "SI              Hicks, Aaron-R  543305   666200     single  hit_into_play   \n",
      "FF                Duvall, Adam  594807   676979  field_out  hit_into_play   \n",
      "...                        ...     ...      ...        ...            ...   \n",
      "SL             Torres, Gleyber  650402   656427  field_out  hit_into_play   \n",
      "FF          Stanton, Giancarlo  519317   681911  field_out  hit_into_play   \n",
      "CH          Hernández, Enrique  571771   592454     single  hit_into_play   \n",
      "FF          Stanton, Giancarlo  519317   518489   home_run  hit_into_play   \n",
      "FF              Ohtani, Shohei  660271   543037  field_out  hit_into_play   \n",
      "\n",
      "            spin_dir  ...  n_thruorder_pitcher  \\\n",
      "pitch_type            ...                        \n",
      "FF               NaN  ...                    3   \n",
      "KC               NaN  ...                    3   \n",
      "FC               NaN  ...                    3   \n",
      "SI               NaN  ...                    3   \n",
      "FF               NaN  ...                    3   \n",
      "...              ...  ...                  ...   \n",
      "SL               NaN  ...                    1   \n",
      "FF               NaN  ...                    1   \n",
      "CH               NaN  ...                    1   \n",
      "FF               NaN  ...                    1   \n",
      "FF               NaN  ...                    1   \n",
      "\n",
      "            n_priorpa_thisgame_player_at_bat  pitcher_days_since_prev_game  \\\n",
      "pitch_type                                                                   \n",
      "FF                                         2                           5.0   \n",
      "KC                                         2                           5.0   \n",
      "FC                                         2                           5.0   \n",
      "SI                                         2                           5.0   \n",
      "FF                                         2                           5.0   \n",
      "...                                      ...                           ...   \n",
      "SL                                         0                           5.0   \n",
      "FF                                         2                           2.0   \n",
      "CH                                         3                           2.0   \n",
      "FF                                         1                           2.0   \n",
      "FF                                         0                           5.0   \n",
      "\n",
      "            batter_days_since_prev_game pitcher_days_until_next_game  \\\n",
      "pitch_type                                                             \n",
      "FF                                  1.0                          6.0   \n",
      "KC                                  1.0                          6.0   \n",
      "FC                                  1.0                          5.0   \n",
      "SI                                  1.0                          6.0   \n",
      "FF                                  2.0                          5.0   \n",
      "...                                 ...                          ...   \n",
      "SL                                  1.0                          NaN   \n",
      "FF                                  1.0                          NaN   \n",
      "CH                                  1.0                          NaN   \n",
      "FF                                  1.0                          NaN   \n",
      "FF                                  1.0                          NaN   \n",
      "\n",
      "           batter_days_until_next_game api_break_z_with_gravity  \\\n",
      "pitch_type                                                        \n",
      "FF                                 1.0                     1.32   \n",
      "KC                                 1.0                     4.61   \n",
      "FC                                 3.0                     2.26   \n",
      "SI                                 1.0                     1.68   \n",
      "FF                                 3.0                     1.18   \n",
      "...                                ...                      ...   \n",
      "SL                                 NaN                     2.83   \n",
      "FF                                 NaN                     0.83   \n",
      "CH                                 NaN                     2.64   \n",
      "FF                                 NaN                     1.24   \n",
      "FF                                 NaN                     1.00   \n",
      "\n",
      "           api_break_x_arm api_break_x_batter_in arm_angle  \n",
      "pitch_type                                                  \n",
      "FF                    0.85                 -0.85      19.4  \n",
      "KC                   -0.50                  0.50      36.3  \n",
      "FC                   -0.22                 -0.22      40.1  \n",
      "SI                    1.45                 -1.45      43.0  \n",
      "FF                    0.48                 -0.48      39.3  \n",
      "...                    ...                   ...       ...  \n",
      "SL                   -0.53                 -0.53      28.1  \n",
      "FF                    0.74                 -0.74      61.1  \n",
      "CH                    1.00                  1.00      30.4  \n",
      "FF                    0.58                  0.58      39.0  \n",
      "FF                    0.69                 -0.69      41.8  \n",
      "\n",
      "[122828 rows x 112 columns]\n"
     ]
    }
   ],
   "source": [
    "# Filter data to include only instances where the event description is 'hit_into_play'.\n",
    "data_hip = data[data[\"description\"] == \"hit_into_play\"]\n",
    "print(data_hip)"
   ]
  },
  {
   "cell_type": "code",
   "execution_count": 7,
   "metadata": {},
   "outputs": [
    {
     "name": "stdout",
     "output_type": "stream",
     "text": [
      "7013\n",
      "7013\n",
      "310\n",
      "374\n",
      "374\n",
      "406\n"
     ]
    }
   ],
   "source": [
    "# Check the number of missing values in key columns related to batting metrics.\n",
    "print(data_hip['bat_speed'].isnull().sum())\n",
    "print(data_hip['swing_length'].isnull().sum())\n",
    "print(data_hip['launch_angle'].isnull().sum())\n",
    "print(data_hip['launch_speed'].isnull().sum())\n",
    "print(data_hip['hyper_speed'].isnull().sum())\n",
    "print(data_hip['hit_distance_sc'].isnull().sum())"
   ]
  },
  {
   "cell_type": "code",
   "execution_count": 8,
   "metadata": {},
   "outputs": [
    {
     "name": "stdout",
     "output_type": "stream",
     "text": [
      "             game_date  release_speed  release_pos_x  release_pos_z  \\\n",
      "pitch_type                                                            \n",
      "FF          2024-04-02           95.0          -2.01           5.22   \n",
      "KC          2024-04-02           80.8          -3.13           5.61   \n",
      "FC          2024-04-02           91.4           2.30           6.31   \n",
      "SI          2024-04-02           96.3           2.23           5.96   \n",
      "FF          2024-04-02           96.1           2.15           6.23   \n",
      "...                ...            ...            ...            ...   \n",
      "SL          2024-10-30           86.0          -2.33           5.43   \n",
      "FF          2024-10-30           94.0           0.06           5.99   \n",
      "CH          2024-10-30           88.3          -2.49           5.53   \n",
      "FF          2024-10-30           95.5          -1.78           5.85   \n",
      "FF          2024-10-30           95.6          -2.76           6.15   \n",
      "\n",
      "                   player_name  batter  pitcher     events    description  \\\n",
      "pitch_type                                                                  \n",
      "FF           Rocchio, Brayan-L  677587   622491     single  hit_into_play   \n",
      "KC              Rizzo, Anthony  519203   668678  field_out  hit_into_play   \n",
      "FC          Harris II, Michael  671739   676979  field_out  hit_into_play   \n",
      "SI              Hicks, Aaron-R  543305   666200     single  hit_into_play   \n",
      "FF                Duvall, Adam  594807   676979  field_out  hit_into_play   \n",
      "...                        ...     ...      ...        ...            ...   \n",
      "SL             Torres, Gleyber  650402   656427  field_out  hit_into_play   \n",
      "FF          Stanton, Giancarlo  519317   681911  field_out  hit_into_play   \n",
      "CH          Hernández, Enrique  571771   592454     single  hit_into_play   \n",
      "FF          Stanton, Giancarlo  519317   518489   home_run  hit_into_play   \n",
      "FF              Ohtani, Shohei  660271   543037  field_out  hit_into_play   \n",
      "\n",
      "            spin_dir  ...  n_thruorder_pitcher  \\\n",
      "pitch_type            ...                        \n",
      "FF               NaN  ...                    3   \n",
      "KC               NaN  ...                    3   \n",
      "FC               NaN  ...                    3   \n",
      "SI               NaN  ...                    3   \n",
      "FF               NaN  ...                    3   \n",
      "...              ...  ...                  ...   \n",
      "SL               NaN  ...                    1   \n",
      "FF               NaN  ...                    1   \n",
      "CH               NaN  ...                    1   \n",
      "FF               NaN  ...                    1   \n",
      "FF               NaN  ...                    1   \n",
      "\n",
      "            n_priorpa_thisgame_player_at_bat  pitcher_days_since_prev_game  \\\n",
      "pitch_type                                                                   \n",
      "FF                                         2                           5.0   \n",
      "KC                                         2                           5.0   \n",
      "FC                                         2                           5.0   \n",
      "SI                                         2                           5.0   \n",
      "FF                                         2                           5.0   \n",
      "...                                      ...                           ...   \n",
      "SL                                         0                           5.0   \n",
      "FF                                         2                           2.0   \n",
      "CH                                         3                           2.0   \n",
      "FF                                         1                           2.0   \n",
      "FF                                         0                           5.0   \n",
      "\n",
      "            batter_days_since_prev_game pitcher_days_until_next_game  \\\n",
      "pitch_type                                                             \n",
      "FF                                  1.0                          6.0   \n",
      "KC                                  1.0                          6.0   \n",
      "FC                                  1.0                          5.0   \n",
      "SI                                  1.0                          6.0   \n",
      "FF                                  2.0                          5.0   \n",
      "...                                 ...                          ...   \n",
      "SL                                  1.0                          NaN   \n",
      "FF                                  1.0                          NaN   \n",
      "CH                                  1.0                          NaN   \n",
      "FF                                  1.0                          NaN   \n",
      "FF                                  1.0                          NaN   \n",
      "\n",
      "           batter_days_until_next_game api_break_z_with_gravity  \\\n",
      "pitch_type                                                        \n",
      "FF                                 1.0                     1.32   \n",
      "KC                                 1.0                     4.61   \n",
      "FC                                 3.0                     2.26   \n",
      "SI                                 1.0                     1.68   \n",
      "FF                                 3.0                     1.18   \n",
      "...                                ...                      ...   \n",
      "SL                                 NaN                     2.83   \n",
      "FF                                 NaN                     0.83   \n",
      "CH                                 NaN                     2.64   \n",
      "FF                                 NaN                     1.24   \n",
      "FF                                 NaN                     1.00   \n",
      "\n",
      "           api_break_x_arm api_break_x_batter_in arm_angle  \n",
      "pitch_type                                                  \n",
      "FF                    0.85                 -0.85      19.4  \n",
      "KC                   -0.50                  0.50      36.3  \n",
      "FC                   -0.22                 -0.22      40.1  \n",
      "SI                    1.45                 -1.45      43.0  \n",
      "FF                    0.48                 -0.48      39.3  \n",
      "...                    ...                   ...       ...  \n",
      "SL                   -0.53                 -0.53      28.1  \n",
      "FF                    0.74                 -0.74      61.1  \n",
      "CH                    1.00                  1.00      30.4  \n",
      "FF                    0.58                  0.58      39.0  \n",
      "FF                    0.69                 -0.69      41.8  \n",
      "\n",
      "[122374 rows x 112 columns]\n"
     ]
    }
   ],
   "source": [
    "# Filter out data where the event is 'sac_bunt' from the previous filtered dataset.\n",
    "data_hip_nonbunt = data_hip[data_hip['events']!='sac_bunt']\n",
    "print(data_hip_nonbunt)"
   ]
  },
  {
   "cell_type": "code",
   "execution_count": 9,
   "metadata": {},
   "outputs": [
    {
     "name": "stdout",
     "output_type": "stream",
     "text": [
      "6768\n",
      "6768\n",
      "303\n",
      "367\n",
      "367\n",
      "399\n"
     ]
    }
   ],
   "source": [
    "# Check the number of missing values in the non-bunt dataset for key batting metrics.\n",
    "print(data_hip_nonbunt['bat_speed'].isnull().sum())\n",
    "print(data_hip_nonbunt['swing_length'].isnull().sum())\n",
    "print(data_hip_nonbunt['launch_angle'].isnull().sum())\n",
    "print(data_hip_nonbunt['launch_speed'].isnull().sum())\n",
    "print(data_hip_nonbunt['hyper_speed'].isnull().sum())\n",
    "print(data_hip_nonbunt['hit_distance_sc'].isnull().sum())"
   ]
  },
  {
   "cell_type": "code",
   "execution_count": 10,
   "metadata": {},
   "outputs": [
    {
     "name": "stdout",
     "output_type": "stream",
     "text": [
      "0\n",
      "0\n",
      "235\n",
      "298\n",
      "298\n",
      "267\n"
     ]
    }
   ],
   "source": [
    "# Drop rows with missing values in the 'bat_speed' and 'swing_length' columns.\n",
    "data_hip_nonbunt_fin = data_hip_nonbunt.dropna(subset=['bat_speed', 'swing_length'])\n",
    "\n",
    "# Verify that no missing values remain in the critical columns.\n",
    "print(data_hip_nonbunt_fin['bat_speed'].isnull().sum())\n",
    "print(data_hip_nonbunt_fin['swing_length'].isnull().sum())\n",
    "print(data_hip_nonbunt_fin['launch_angle'].isnull().sum())\n",
    "print(data_hip_nonbunt_fin['launch_speed'].isnull().sum())\n",
    "print(data_hip_nonbunt_fin['hyper_speed'].isnull().sum())\n",
    "print(data_hip_nonbunt_fin['hit_distance_sc'].isnull().sum())"
   ]
  },
  {
   "cell_type": "code",
   "execution_count": 11,
   "metadata": {},
   "outputs": [
    {
     "name": "stdout",
     "output_type": "stream",
     "text": [
      "           player_name  mean_batspeed  std_batspeed  mean_swinglength  \\\n",
      "0           Abrams, CJ      71.869018      5.844900          7.404786   \n",
      "1          Abreu, José      71.720968      7.114270          7.130645   \n",
      "2        Abreu, Wilyer      74.762868      4.130587          7.377574   \n",
      "3    Acuña Jr., Ronald      76.213793      6.432308          7.625000   \n",
      "4     Acuña, Luisangel      72.229412     12.005669          7.232353   \n",
      "..                 ...            ...           ...               ...   \n",
      "707        Yorke, Nick      72.445455      5.383903          7.318182   \n",
      "708  Yoshida, Masataka      70.972876      4.644194          7.176471   \n",
      "709       Young, Jacob      65.606087     13.443015          6.655652   \n",
      "710       Zavala, Seby      69.047368      4.368749          7.189474   \n",
      "711   d'Arnaud, Travis      71.045405      5.623475          7.747568   \n",
      "\n",
      "     std_swinglength  \n",
      "0           0.603652  \n",
      "1           0.802984  \n",
      "2           0.613842  \n",
      "3           0.601719  \n",
      "4           1.150420  \n",
      "..               ...  \n",
      "707         0.450012  \n",
      "708         0.614499  \n",
      "709         1.293377  \n",
      "710         0.394257  \n",
      "711         0.572473  \n",
      "\n",
      "[712 rows x 5 columns]\n"
     ]
    }
   ],
   "source": [
    "# Calculate summary statistics (mean and standard deviation) for bat speed and swing length by player.\n",
    "summary_stats = data_hip_nonbunt_fin.groupby('player_name')[['bat_speed', 'swing_length']].agg(['mean', 'std']).reset_index()\n",
    "summary_stats.columns = ['player_name', 'mean_batspeed', 'std_batspeed', 'mean_swinglength', 'std_swinglength']\n",
    "\n",
    "# Display the summary statistics.\n",
    "print(summary_stats)"
   ]
  },
  {
   "cell_type": "code",
   "execution_count": 12,
   "metadata": {},
   "outputs": [
    {
     "name": "stdout",
     "output_type": "stream",
     "text": [
      "           player_name  mean_batspeed  std_batspeed  mean_swinglength  \\\n",
      "0           Abrams, CJ      71.869018      5.844900          7.404786   \n",
      "1          Abreu, José      71.720968      7.114270          7.130645   \n",
      "2        Abreu, Wilyer      74.762868      4.130587          7.377574   \n",
      "3    Acuña Jr., Ronald      76.213793      6.432308          7.625000   \n",
      "4     Acuña, Luisangel      72.229412     12.005669          7.232353   \n",
      "..                 ...            ...           ...               ...   \n",
      "707        Yorke, Nick      72.445455      5.383903          7.318182   \n",
      "708  Yoshida, Masataka      70.972876      4.644194          7.176471   \n",
      "709       Young, Jacob      65.606087     13.443015          6.655652   \n",
      "710       Zavala, Seby      69.047368      4.368749          7.189474   \n",
      "711   d'Arnaud, Travis      71.045405      5.623475          7.747568   \n",
      "\n",
      "     std_swinglength  batter stand  \n",
      "0           0.603652  682928     L  \n",
      "1           0.802984  547989     R  \n",
      "2           0.613842  677800     L  \n",
      "3           0.601719  660670     R  \n",
      "4           1.150420  682668     R  \n",
      "..               ...     ...   ...  \n",
      "707         0.450012  694377     R  \n",
      "708         0.614499  807799     L  \n",
      "709         1.293377  696285     R  \n",
      "710         0.394257  664874     R  \n",
      "711         0.572473  518595     R  \n",
      "\n",
      "[712 rows x 7 columns]\n"
     ]
    }
   ],
   "source": [
    "# Merge additional player details ('batter' and 'stand') into the summary statistics dataset.\n",
    "summary_stats_final = summary_stats.merge(data_hip_nonbunt_fin[['batter', 'stand', 'player_name']].drop_duplicates(), \n",
    "                                on='player_name', \n",
    "                                how='left')\n",
    "\n",
    "# Display the merged dataset with additional player information.\n",
    "print(summary_stats_final)"
   ]
  },
  {
   "cell_type": "code",
   "execution_count": 14,
   "metadata": {},
   "outputs": [
    {
     "name": "stdout",
     "output_type": "stream",
     "text": [
      "           player_name  attack_angle\n",
      "0           Abrams, CJ     15.378242\n",
      "1          Abreu, José      5.253244\n",
      "2        Abreu, Wilyer     17.837165\n",
      "3    Acuña Jr., Ronald     13.396897\n",
      "4     Acuña, Luisangel      4.588206\n",
      "..                 ...           ...\n",
      "616        Yorke, Nick     13.279616\n",
      "617  Yoshida, Masataka     11.139459\n",
      "618       Young, Jacob      2.507728\n",
      "619       Zavala, Seby     29.371732\n",
      "620   d'Arnaud, Travis     19.999097\n",
      "\n",
      "[621 rows x 2 columns]\n"
     ]
    }
   ],
   "source": [
    "# Read attack angle data from a CSV file.\n",
    "data_path = BASE_DIR / \"data\" / \"attack_angle.csv\"\n",
    "\n",
    "at_angle=pd.read_csv(data_path)\n",
    "print(at_angle)"
   ]
  },
  {
   "cell_type": "code",
   "execution_count": 15,
   "metadata": {},
   "outputs": [
    {
     "name": "stdout",
     "output_type": "stream",
     "text": [
      "           player_name  mean_batspeed  std_batspeed  mean_swinglength  \\\n",
      "0           Abrams, CJ      71.869018      5.844900          7.404786   \n",
      "1          Abreu, José      71.720968      7.114270          7.130645   \n",
      "2        Abreu, Wilyer      74.762868      4.130587          7.377574   \n",
      "3    Acuña Jr., Ronald      76.213793      6.432308          7.625000   \n",
      "4     Acuña, Luisangel      72.229412     12.005669          7.232353   \n",
      "..                 ...            ...           ...               ...   \n",
      "707        Yorke, Nick      72.445455      5.383903          7.318182   \n",
      "708  Yoshida, Masataka      70.972876      4.644194          7.176471   \n",
      "709       Young, Jacob      65.606087     13.443015          6.655652   \n",
      "710       Zavala, Seby      69.047368      4.368749          7.189474   \n",
      "711   d'Arnaud, Travis      71.045405      5.623475          7.747568   \n",
      "\n",
      "     std_swinglength  batter stand  attack_angle  \n",
      "0           0.603652  682928     L     15.378242  \n",
      "1           0.802984  547989     R      5.253244  \n",
      "2           0.613842  677800     L     17.837165  \n",
      "3           0.601719  660670     R     13.396897  \n",
      "4           1.150420  682668     R      4.588206  \n",
      "..               ...     ...   ...           ...  \n",
      "707         0.450012  694377     R     13.279616  \n",
      "708         0.614499  807799     L     11.139459  \n",
      "709         1.293377  696285     R      2.507728  \n",
      "710         0.394257  664874     R     29.371732  \n",
      "711         0.572473  518595     R     19.999097  \n",
      "\n",
      "[712 rows x 8 columns]\n"
     ]
    }
   ],
   "source": [
    "# Merge the attack angle data with the summary statistics dataset.\n",
    "merged_df = pd.merge(summary_stats_final, at_angle, on='player_name', how='left')\n",
    "print(merged_df)"
   ]
  },
  {
   "cell_type": "code",
   "execution_count": 16,
   "metadata": {},
   "outputs": [
    {
     "name": "stdout",
     "output_type": "stream",
     "text": [
      "91\n"
     ]
    }
   ],
   "source": [
    "# Count the number of missing values in the 'attack_angle' column.\n",
    "missing_attack_angle = merged_df['attack_angle'].isnull().sum()\n",
    "print(missing_attack_angle)"
   ]
  },
  {
   "cell_type": "code",
   "execution_count": 17,
   "metadata": {},
   "outputs": [
    {
     "name": "stdout",
     "output_type": "stream",
     "text": [
      "           player_name  mean_batspeed  std_batspeed  mean_swinglength  \\\n",
      "0           Abrams, CJ      71.869018      5.844900          7.404786   \n",
      "1          Abreu, José      71.720968      7.114270          7.130645   \n",
      "2        Abreu, Wilyer      74.762868      4.130587          7.377574   \n",
      "3    Acuña Jr., Ronald      76.213793      6.432308          7.625000   \n",
      "4     Acuña, Luisangel      72.229412     12.005669          7.232353   \n",
      "..                 ...            ...           ...               ...   \n",
      "707        Yorke, Nick      72.445455      5.383903          7.318182   \n",
      "708  Yoshida, Masataka      70.972876      4.644194          7.176471   \n",
      "709       Young, Jacob      65.606087     13.443015          6.655652   \n",
      "710       Zavala, Seby      69.047368      4.368749          7.189474   \n",
      "711   d'Arnaud, Travis      71.045405      5.623475          7.747568   \n",
      "\n",
      "     std_swinglength  batter stand  attack_angle  \n",
      "0           0.603652  682928     L     15.378242  \n",
      "1           0.802984  547989     R      5.253244  \n",
      "2           0.613842  677800     L     17.837165  \n",
      "3           0.601719  660670     R     13.396897  \n",
      "4           1.150420  682668     R      4.588206  \n",
      "..               ...     ...   ...           ...  \n",
      "707         0.450012  694377     R     13.279616  \n",
      "708         0.614499  807799     L     11.139459  \n",
      "709         1.293377  696285     R      2.507728  \n",
      "710         0.394257  664874     R     29.371732  \n",
      "711         0.572473  518595     R     19.999097  \n",
      "\n",
      "[621 rows x 8 columns]\n"
     ]
    }
   ],
   "source": [
    "# Drop rows with missing values in the 'attack_angle' column.\n",
    "cleaned_df = merged_df.dropna(subset=['attack_angle'])\n",
    "print(cleaned_df)"
   ]
  },
  {
   "cell_type": "code",
   "execution_count": 18,
   "metadata": {},
   "outputs": [],
   "source": [
    "# Save the cleaned dataset to a CSV file.\n",
    "output_path = BASE_DIR / \"data\" / \"batter_stats_sum.csv\"\n",
    "\n",
    "cleaned_df.to_csv(output_path, index=False)"
   ]
  }
 ],
 "metadata": {
  "kernelspec": {
   "display_name": "Python 3",
   "language": "python",
   "name": "python3"
  },
  "language_info": {
   "codemirror_mode": {
    "name": "ipython",
    "version": 3
   },
   "file_extension": ".py",
   "mimetype": "text/x-python",
   "name": "python",
   "nbconvert_exporter": "python",
   "pygments_lexer": "ipython3",
   "version": "3.9.6"
  }
 },
 "nbformat": 4,
 "nbformat_minor": 2
}
