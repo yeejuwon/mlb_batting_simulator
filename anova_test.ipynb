{
 "cells": [
  {
   "cell_type": "markdown",
   "metadata": {},
   "source": [
    "# Importing Dataset"
   ]
  },
  {
   "cell_type": "code",
   "execution_count": 3,
   "metadata": {},
   "outputs": [],
   "source": [
    "# Specify relative paths\n",
    "from pathlib import Path\n",
    "\n",
    "BASE_DIR = Path.cwd()\n",
    "data_path = BASE_DIR / \"data\" / \"statcast_switch_split.csv\""
   ]
  },
  {
   "cell_type": "code",
   "execution_count": 4,
   "metadata": {},
   "outputs": [
    {
     "name": "stdout",
     "output_type": "stream",
     "text": [
      "  pitch_type   game_date  release_speed  release_pos_x  release_pos_z  \\\n",
      "0         FF  2024-04-02           95.0          -2.01           5.22   \n",
      "1         CH  2024-04-02           88.5          -2.09           4.95   \n",
      "2         SI  2024-04-02           95.0          -2.02           5.12   \n",
      "3         KC  2024-04-02           80.8          -3.13           5.61   \n",
      "4         FF  2024-04-02           95.4          -1.95           5.12   \n",
      "5         SI  2024-04-02           90.7          -1.26           5.13   \n",
      "6         SI  2024-04-02           91.8           1.75           4.89   \n",
      "7         SI  2024-04-02           94.0          -1.90           4.99   \n",
      "8         SI  2024-04-02           89.9          -1.14           5.01   \n",
      "9         FF  2024-04-02           93.4          -3.17           5.63   \n",
      "\n",
      "         player_name  batter  pitcher     events    description  ...  \\\n",
      "0  Rocchio, Brayan-L  677587   622491     single  hit_into_play  ...   \n",
      "1  Rocchio, Brayan-L  677587   622491        NaN           foul  ...   \n",
      "2  Rocchio, Brayan-L  677587   622491        NaN  called_strike  ...   \n",
      "3     Rizzo, Anthony  519203   668678  field_out  hit_into_play  ...   \n",
      "4     Hedges, Austin  595978   622491  strikeout       foul_tip  ...   \n",
      "5     Ohtani, Shohei  660271   657277       walk           ball  ...   \n",
      "6     Casas, Triston  671213   622072       walk           ball  ...   \n",
      "7     Hedges, Austin  595978   622491        NaN  called_strike  ...   \n",
      "8     Ohtani, Shohei  660271   657277        NaN           ball  ...   \n",
      "9     Rizzo, Anthony  519203   668678        NaN           ball  ...   \n",
      "\n",
      "   n_thruorder_pitcher  n_priorpa_thisgame_player_at_bat  \\\n",
      "0                    3                                 2   \n",
      "1                    3                                 2   \n",
      "2                    3                                 2   \n",
      "3                    3                                 2   \n",
      "4                    3                                 2   \n",
      "5                    3                                 2   \n",
      "6                    3                                 2   \n",
      "7                    3                                 2   \n",
      "8                    3                                 2   \n",
      "9                    3                                 2   \n",
      "\n",
      "   pitcher_days_since_prev_game  batter_days_since_prev_game  \\\n",
      "0                           5.0                          1.0   \n",
      "1                           5.0                          1.0   \n",
      "2                           5.0                          1.0   \n",
      "3                           5.0                          1.0   \n",
      "4                           5.0                          3.0   \n",
      "5                           5.0                          1.0   \n",
      "6                           5.0                          1.0   \n",
      "7                           5.0                          3.0   \n",
      "8                           5.0                          1.0   \n",
      "9                           5.0                          1.0   \n",
      "\n",
      "   pitcher_days_until_next_game batter_days_until_next_game  \\\n",
      "0                           6.0                         1.0   \n",
      "1                           6.0                         1.0   \n",
      "2                           6.0                         1.0   \n",
      "3                           6.0                         1.0   \n",
      "4                           6.0                         6.0   \n",
      "5                           5.0                         1.0   \n",
      "6                           7.0                         1.0   \n",
      "7                           6.0                         6.0   \n",
      "8                           5.0                         1.0   \n",
      "9                           6.0                         1.0   \n",
      "\n",
      "  api_break_z_with_gravity api_break_x_arm api_break_x_batter_in arm_angle  \n",
      "0                     1.32            0.85                 -0.85      19.4  \n",
      "1                     2.82            1.40                 -1.40      14.4  \n",
      "2                     2.37            1.48                 -1.48      21.9  \n",
      "3                     4.61           -0.50                  0.50      36.3  \n",
      "4                     1.59            1.08                  1.08      17.5  \n",
      "5                     2.71            1.45                 -1.45      27.9  \n",
      "6                     1.71            0.93                  0.93      23.9  \n",
      "7                     2.17            1.60                  1.60      15.0  \n",
      "8                     2.79            1.45                 -1.45      24.9  \n",
      "9                     1.12            0.59                 -0.59      40.0  \n",
      "\n",
      "[10 rows x 113 columns]\n"
     ]
    }
   ],
   "source": [
    "# Import dataset\n",
    "import pandas as pd\n",
    "\n",
    "data = pd.read_csv(data_path)\n",
    "print(data.head(10))"
   ]
  },
  {
   "cell_type": "markdown",
   "metadata": {},
   "source": [
    "# One-Way ANOVA\n",
    ": Searching for significantly different variables by player name"
   ]
  },
  {
   "cell_type": "code",
   "execution_count": 5,
   "metadata": {},
   "outputs": [],
   "source": [
    "# Drop missing values\n",
    "new_data = data.dropna(subset=['swing_length', 'bat_speed'])"
   ]
  },
  {
   "cell_type": "code",
   "execution_count": 6,
   "metadata": {},
   "outputs": [
    {
     "name": "stderr",
     "output_type": "stream",
     "text": [
      "/var/folders/hv/y2yg6cw53bx_m5g2sh5sfc2w0000gp/T/ipykernel_99389/1054643389.py:16: DegenerateDataWarning: at least one input has length 0\n",
      "  f_stat, p_value = f_oneway(*groups)\n",
      "/var/folders/hv/y2yg6cw53bx_m5g2sh5sfc2w0000gp/T/ipykernel_99389/1054643389.py:16: DegenerateDataWarning: at least one input has length 0\n",
      "  f_stat, p_value = f_oneway(*groups)\n",
      "/var/folders/hv/y2yg6cw53bx_m5g2sh5sfc2w0000gp/T/ipykernel_99389/1054643389.py:16: DegenerateDataWarning: at least one input has length 0\n",
      "  f_stat, p_value = f_oneway(*groups)\n",
      "/var/folders/hv/y2yg6cw53bx_m5g2sh5sfc2w0000gp/T/ipykernel_99389/1054643389.py:16: DegenerateDataWarning: at least one input has length 0\n",
      "  f_stat, p_value = f_oneway(*groups)\n",
      "/var/folders/hv/y2yg6cw53bx_m5g2sh5sfc2w0000gp/T/ipykernel_99389/1054643389.py:16: DegenerateDataWarning: at least one input has length 0\n",
      "  f_stat, p_value = f_oneway(*groups)\n",
      "/var/folders/hv/y2yg6cw53bx_m5g2sh5sfc2w0000gp/T/ipykernel_99389/1054643389.py:16: DegenerateDataWarning: at least one input has length 0\n",
      "  f_stat, p_value = f_oneway(*groups)\n",
      "/var/folders/hv/y2yg6cw53bx_m5g2sh5sfc2w0000gp/T/ipykernel_99389/1054643389.py:16: DegenerateDataWarning: at least one input has length 0\n",
      "  f_stat, p_value = f_oneway(*groups)\n",
      "/var/folders/hv/y2yg6cw53bx_m5g2sh5sfc2w0000gp/T/ipykernel_99389/1054643389.py:16: DegenerateDataWarning: at least one input has length 0\n",
      "  f_stat, p_value = f_oneway(*groups)\n",
      "/var/folders/hv/y2yg6cw53bx_m5g2sh5sfc2w0000gp/T/ipykernel_99389/1054643389.py:16: DegenerateDataWarning: at least one input has length 0\n",
      "  f_stat, p_value = f_oneway(*groups)\n",
      "/var/folders/hv/y2yg6cw53bx_m5g2sh5sfc2w0000gp/T/ipykernel_99389/1054643389.py:16: DegenerateDataWarning: at least one input has length 0\n",
      "  f_stat, p_value = f_oneway(*groups)\n"
     ]
    },
    {
     "name": "stdout",
     "output_type": "stream",
     "text": [
      "Variables showing significant differences by Player Name:\n",
      "           Variable     F_stat  p_value\n",
      "0             balls   6.662329      0.0\n",
      "1           strikes   4.282164      0.0\n",
      "2      outs_when_up   4.678524      0.0\n",
      "3   hit_distance_sc   3.213993      0.0\n",
      "4      launch_speed   4.914000      0.0\n",
      "5      launch_angle   4.220165      0.0\n",
      "6         bat_speed  54.627861      0.0\n",
      "7      swing_length  93.253266      0.0\n",
      "8       hyper_speed   7.940085      0.0\n",
      "9    age_bat_legacy        inf      0.0\n",
      "10          age_bat        inf      0.0\n"
     ]
    },
    {
     "name": "stderr",
     "output_type": "stream",
     "text": [
      "/var/folders/hv/y2yg6cw53bx_m5g2sh5sfc2w0000gp/T/ipykernel_99389/1054643389.py:16: ConstantInputWarning: Each of the input arrays is constant; the F statistic is not defined or infinite\n",
      "  f_stat, p_value = f_oneway(*groups)\n",
      "/var/folders/hv/y2yg6cw53bx_m5g2sh5sfc2w0000gp/T/ipykernel_99389/1054643389.py:16: ConstantInputWarning: Each of the input arrays is constant; the F statistic is not defined or infinite\n",
      "  f_stat, p_value = f_oneway(*groups)\n"
     ]
    }
   ],
   "source": [
    "# Execute One-Way ANOVA\n",
    "from scipy.stats import f_oneway\n",
    "\n",
    "numeric_columns = ['balls', 'strikes', 'outs_when_up','hc_x', 'hc_y', 'hit_distance_sc', \n",
    "                   'launch_speed', 'launch_angle', 'estimated_ba_using_speedangle', \n",
    "                   'estimated_woba_using_speedangle', 'woba_value', 'woba_denom', \n",
    "                   'babip_value', 'iso_value', 'launch_speed_angle', 'bat_speed', \n",
    "                   'swing_length', 'estimated_slg_using_speedangle', 'hyper_speed', \n",
    "                   'age_bat_legacy', 'age_bat']\n",
    "\n",
    "significant_vars = []\n",
    "\n",
    "for col in numeric_columns:\n",
    "    groups = [group[col].dropna().values for _, group in new_data.groupby('player_name')]\n",
    "    \n",
    "    if len(groups) > 1:\n",
    "        f_stat, p_value = f_oneway(*groups)\n",
    "        if p_value < 0.05:\n",
    "            significant_vars.append((col, f_stat, p_value))\n",
    "\n",
    "\n",
    "significant_vars_df = pd.DataFrame(significant_vars, columns=['Variable', 'F_stat', 'p_value'])\n",
    "significant_vars_df['p_value'] = significant_vars_df['p_value'].apply(lambda x: round(x, 4))\n",
    "print(\"Variables showing significant differences by Player Name:\")\n",
    "print(significant_vars_df)\n"
   ]
  }
 ],
 "metadata": {
  "kernelspec": {
   "display_name": "Python 3",
   "language": "python",
   "name": "python3"
  },
  "language_info": {
   "codemirror_mode": {
    "name": "ipython",
    "version": 3
   },
   "file_extension": ".py",
   "mimetype": "text/x-python",
   "name": "python",
   "nbconvert_exporter": "python",
   "pygments_lexer": "ipython3",
   "version": "3.9.6"
  }
 },
 "nbformat": 4,
 "nbformat_minor": 2
}
