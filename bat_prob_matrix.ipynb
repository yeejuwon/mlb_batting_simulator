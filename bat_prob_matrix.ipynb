{
 "cells": [
  {
   "cell_type": "code",
   "execution_count": 1,
   "metadata": {},
   "outputs": [],
   "source": [
    "# Import statcast+batting cluster datasets\n",
    "from pathlib import Path\n",
    "\n",
    "BASE_DIR = Path.cwd()\n",
    "data_path = BASE_DIR / \"data\" / \"statcast+cluster.csv\""
   ]
  },
  {
   "cell_type": "code",
   "execution_count": 2,
   "metadata": {},
   "outputs": [
    {
     "name": "stdout",
     "output_type": "stream",
     "text": [
      "       pitch_type   game_date  release_speed  release_pos_x  release_pos_z  \\\n",
      "0              KC  2024-04-02           80.8          -3.13           5.61   \n",
      "1              FF  2024-04-02           95.4          -1.95           5.12   \n",
      "2              SI  2024-04-02           90.7          -1.26           5.13   \n",
      "3              SI  2024-04-02           91.8           1.75           4.89   \n",
      "4              SI  2024-04-02           94.0          -1.90           4.99   \n",
      "...           ...         ...            ...            ...            ...   \n",
      "610349         FF  2024-10-30           95.6          -2.76           6.15   \n",
      "610350         SI  2024-10-30           96.0          -0.72           6.67   \n",
      "610351         FF  2024-10-30           95.8          -1.55           5.85   \n",
      "610352         SL  2024-10-30           85.9           2.78           5.53   \n",
      "610353         CH  2024-10-30           86.7          -2.34           5.70   \n",
      "\n",
      "               player_name  batter  pitcher     events      description  ...  \\\n",
      "0           Rizzo, Anthony  519203   668678  field_out    hit_into_play  ...   \n",
      "1           Hedges, Austin  595978   622491  strikeout         foul_tip  ...   \n",
      "2           Ohtani, Shohei  660271   657277       walk             ball  ...   \n",
      "3           Casas, Triston  671213   622072       walk             ball  ...   \n",
      "4           Hedges, Austin  595978   622491        NaN    called_strike  ...   \n",
      "...                    ...     ...      ...        ...              ...  ...   \n",
      "610349      Ohtani, Shohei  660271   543037  field_out    hit_into_play  ...   \n",
      "610350  Hernández, Teoscar  606192   605280        NaN             ball  ...   \n",
      "610351          Lux, Gavin  666158   596133        NaN             ball  ...   \n",
      "610352     Torres, Gleyber  650402   607455        NaN  swinging_strike  ...   \n",
      "610353  Hernández, Enrique  571771   592454        NaN    called_strike  ...   \n",
      "\n",
      "        pitcher_days_since_prev_game  batter_days_since_prev_game  \\\n",
      "0                                5.0                          1.0   \n",
      "1                                5.0                          3.0   \n",
      "2                                5.0                          1.0   \n",
      "3                                5.0                          1.0   \n",
      "4                                5.0                          3.0   \n",
      "...                              ...                          ...   \n",
      "610349                           5.0                          1.0   \n",
      "610350                           1.0                          1.0   \n",
      "610351                           1.0                          1.0   \n",
      "610352                           2.0                          1.0   \n",
      "610353                           2.0                          1.0   \n",
      "\n",
      "        pitcher_days_until_next_game  batter_days_until_next_game  \\\n",
      "0                                6.0                          1.0   \n",
      "1                                6.0                          6.0   \n",
      "2                                5.0                          1.0   \n",
      "3                                7.0                          1.0   \n",
      "4                                6.0                          6.0   \n",
      "...                              ...                          ...   \n",
      "610349                           NaN                          NaN   \n",
      "610350                           NaN                          NaN   \n",
      "610351                           NaN                          NaN   \n",
      "610352                           NaN                          NaN   \n",
      "610353                           NaN                          NaN   \n",
      "\n",
      "        api_break_z_with_gravity api_break_x_arm api_break_x_batter_in  \\\n",
      "0                           4.61           -0.50                  0.50   \n",
      "1                           1.59            1.08                  1.08   \n",
      "2                           2.71            1.45                 -1.45   \n",
      "3                           1.71            0.93                  0.93   \n",
      "4                           2.17            1.60                  1.60   \n",
      "...                          ...             ...                   ...   \n",
      "610349                      1.00            0.69                 -0.69   \n",
      "610350                      2.16            1.62                  1.62   \n",
      "610351                      0.75            0.37                 -0.37   \n",
      "610352                      4.06           -0.70                  0.70   \n",
      "610353                      3.39            0.93                  0.93   \n",
      "\n",
      "       arm_angle             Name_SC batter_cluster  \n",
      "0           36.3      Rizzo, Anthony            8.0  \n",
      "1           17.5      Hedges, Austin            3.0  \n",
      "2           27.9      Ohtani, Shohei            6.0  \n",
      "3           23.9      Casas, Triston            6.0  \n",
      "4           15.0      Hedges, Austin            3.0  \n",
      "...          ...                 ...            ...  \n",
      "610349      41.8      Ohtani, Shohei            6.0  \n",
      "610350      49.4  Hernández, Teoscar            4.0  \n",
      "610351      49.2          Lux, Gavin            6.0  \n",
      "610352      31.3     Torres, Gleyber            1.0  \n",
      "610353      34.4  Hernández, Enrique            4.0  \n",
      "\n",
      "[610354 rows x 115 columns]\n"
     ]
    }
   ],
   "source": [
    "import pandas as pd\n",
    "\n",
    "data = pd.read_csv(data_path)\n",
    "print(data)"
   ]
  },
  {
   "cell_type": "code",
   "execution_count": null,
   "metadata": {},
   "outputs": [
    {
     "name": "stdout",
     "output_type": "stream",
     "text": [
      "['hit_into_play' 'foul_tip' 'ball' 'called_strike' 'foul'\n",
      " 'swinging_strike' 'blocked_ball' 'swinging_strike_blocked' 'hit_by_pitch'\n",
      " 'foul_bunt' 'pitchout' 'missed_bunt' 'bunt_foul_tip']\n"
     ]
    }
   ],
   "source": [
    "# EDA for 'description', 'events', 'bb_type'\n",
    "print(data['description'].unique())"
   ]
  },
  {
   "cell_type": "code",
   "execution_count": 4,
   "metadata": {},
   "outputs": [
    {
     "name": "stdout",
     "output_type": "stream",
     "text": [
      "['field_out' 'strikeout' 'walk' nan 'single' 'home_run' 'force_out'\n",
      " 'field_error' 'double' 'grounded_into_double_play' 'hit_by_pitch'\n",
      " 'catcher_interf' 'triple' 'sac_fly' 'double_play' 'sac_bunt'\n",
      " 'fielders_choice' 'truncated_pa' 'fielders_choice_out'\n",
      " 'strikeout_double_play' 'sac_fly_double_play' 'triple_play']\n"
     ]
    }
   ],
   "source": [
    "print(data['events'].unique())"
   ]
  },
  {
   "cell_type": "code",
   "execution_count": 5,
   "metadata": {},
   "outputs": [
    {
     "name": "stdout",
     "output_type": "stream",
     "text": [
      "['ground_ball' nan 'fly_ball' 'line_drive' 'popup']\n"
     ]
    }
   ],
   "source": [
    "print(data['bb_type'].unique())"
   ]
  },
  {
   "cell_type": "code",
   "execution_count": 6,
   "metadata": {},
   "outputs": [
    {
     "data": {
      "text/plain": [
       "453646"
      ]
     },
     "execution_count": 6,
     "metadata": {},
     "output_type": "execute_result"
    }
   ],
   "source": [
    "data['events'].isna().sum()"
   ]
  },
  {
   "cell_type": "code",
   "execution_count": 7,
   "metadata": {},
   "outputs": [
    {
     "name": "stdout",
     "output_type": "stream",
     "text": [
      "events\n",
      "field_out                    63156\n",
      "strikeout                    35662\n",
      "single                       22249\n",
      "walk                         12305\n",
      "double                        6736\n",
      "home_run                      4676\n",
      "force_out                     3019\n",
      "grounded_into_double_play     2784\n",
      "hit_by_pitch                  1759\n",
      "sac_fly                       1066\n",
      "field_error                    945\n",
      "triple                         594\n",
      "sac_bunt                       385\n",
      "fielders_choice                344\n",
      "double_play                    293\n",
      "truncated_pa                   282\n",
      "fielders_choice_out            262\n",
      "strikeout_double_play           96\n",
      "catcher_interf                  83\n",
      "sac_fly_double_play             10\n",
      "triple_play                      2\n",
      "Name: count, dtype: int64\n"
     ]
    }
   ],
   "source": [
    "print(data['events'].value_counts())"
   ]
  },
  {
   "cell_type": "code",
   "execution_count": null,
   "metadata": {},
   "outputs": [
    {
     "name": "stdout",
     "output_type": "stream",
     "text": [
      "events\n",
      "strikeout                    35662\n",
      "ground_out                   26675\n",
      "single                       22249\n",
      "fly_out                      20179\n",
      "walk                         12305\n",
      "line_out                      8944\n",
      "pop_out                       7357\n",
      "double                        6736\n",
      "home_run                      4676\n",
      "force_out                     3019\n",
      "grounded_into_double_play     2784\n",
      "hit_by_pitch                  1759\n",
      "sac_fly                       1066\n",
      "field_error                    945\n",
      "triple                         594\n",
      "sac_bunt                       385\n",
      "fielders_choice                344\n",
      "double_play                    293\n",
      "truncated_pa                   282\n",
      "fielders_choice_out            262\n",
      "strikeout_double_play           96\n",
      "catcher_interf                  83\n",
      "sac_fly_double_play             10\n",
      "triple_play                      2\n",
      "field_out                        1\n",
      "Name: count, dtype: int64\n"
     ]
    }
   ],
   "source": [
    "# Field out is subdivided into ground out, line out, fly out, and pop out.\n",
    "field_out_rows = data['events'] == 'field_out'\n",
    "\n",
    "data.loc[field_out_rows & (data['bb_type'] == 'ground_ball'), 'events'] = 'ground_out'\n",
    "data.loc[field_out_rows & (data['bb_type'] == 'line_drive'), 'events'] = 'line_out'\n",
    "data.loc[field_out_rows & (data['bb_type'] == 'fly_ball'), 'events'] = 'fly_out'\n",
    "data.loc[field_out_rows & (data['bb_type'] == 'popup'), 'events'] = 'pop_out'\n",
    "\n",
    "print(data['events'].value_counts())"
   ]
  },
  {
   "cell_type": "code",
   "execution_count": 9,
   "metadata": {},
   "outputs": [
    {
     "name": "stdout",
     "output_type": "stream",
     "text": [
      "215950    James McCann out to catcher Danny Jansen.  Jam...\n",
      "Name: des, dtype: object\n"
     ]
    }
   ],
   "source": [
    "# Handle edge cases.\n",
    "print(data[data['events'] == 'field_out']['des'])"
   ]
  },
  {
   "cell_type": "code",
   "execution_count": 10,
   "metadata": {},
   "outputs": [
    {
     "name": "stdout",
     "output_type": "stream",
     "text": [
      "events\n",
      "strikeout                    35662\n",
      "ground_out                   26675\n",
      "single                       22249\n",
      "fly_out                      20179\n",
      "walk                         12305\n",
      "line_out                      8944\n",
      "pop_out                       7358\n",
      "double                        6736\n",
      "home_run                      4676\n",
      "force_out                     3019\n",
      "grounded_into_double_play     2784\n",
      "hit_by_pitch                  1759\n",
      "sac_fly                       1066\n",
      "field_error                    945\n",
      "triple                         594\n",
      "sac_bunt                       385\n",
      "fielders_choice                344\n",
      "double_play                    293\n",
      "truncated_pa                   282\n",
      "fielders_choice_out            262\n",
      "strikeout_double_play           96\n",
      "catcher_interf                  83\n",
      "sac_fly_double_play             10\n",
      "triple_play                      2\n",
      "Name: count, dtype: int64\n"
     ]
    }
   ],
   "source": [
    "data.loc[data['events'] == 'field_out', 'events'] = 'pop_out'\n",
    "print(data['events'].value_counts())"
   ]
  },
  {
   "cell_type": "code",
   "execution_count": null,
   "metadata": {},
   "outputs": [
    {
     "name": "stdout",
     "output_type": "stream",
     "text": [
      "events\n",
      "strikeout                    35662\n",
      "ground_out                   29650\n",
      "single                       22249\n",
      "fly_out                      20190\n",
      "walk                         12305\n",
      "line_out                      8965\n",
      "pop_out                       7370\n",
      "double                        6736\n",
      "home_run                      4676\n",
      "grounded_into_double_play     2784\n",
      "hit_by_pitch                  1759\n",
      "sac_fly                       1066\n",
      "field_error                    945\n",
      "triple                         594\n",
      "sac_bunt                       385\n",
      "fielders_choice                344\n",
      "double_play                    293\n",
      "truncated_pa                   282\n",
      "fielders_choice_out            262\n",
      "strikeout_double_play           96\n",
      "catcher_interf                  83\n",
      "sac_fly_double_play             10\n",
      "triple_play                      2\n",
      "Name: count, dtype: int64\n"
     ]
    }
   ],
   "source": [
    "# Force out is subdivided into ground out, line out, fly out, and pop out.\n",
    "force_out_rows = data['events'] == 'force_out'\n",
    "\n",
    "data.loc[force_out_rows & (data['bb_type'] == 'ground_ball'), 'events'] = 'ground_out'\n",
    "data.loc[force_out_rows & (data['bb_type'] == 'line_drive'), 'events'] = 'line_out'\n",
    "data.loc[force_out_rows & (data['bb_type'] == 'fly_ball'), 'events'] = 'fly_out'\n",
    "data.loc[force_out_rows & (data['bb_type'] == 'popup'), 'events'] = 'pop_out'\n",
    "\n",
    "print(data['events'].value_counts())"
   ]
  },
  {
   "cell_type": "code",
   "execution_count": null,
   "metadata": {},
   "outputs": [
    {
     "name": "stdout",
     "output_type": "stream",
     "text": [
      "events\n",
      "strikeout                    35662\n",
      "ground_out                   29994\n",
      "single                       22249\n",
      "fly_out                      20190\n",
      "walk                         12305\n",
      "line_out                      8965\n",
      "pop_out                       7370\n",
      "double                        6736\n",
      "home_run                      4676\n",
      "grounded_into_double_play     2784\n",
      "hit_by_pitch                  1759\n",
      "sac_fly                       1066\n",
      "field_error                    945\n",
      "triple                         594\n",
      "sac_bunt                       385\n",
      "double_play                    293\n",
      "truncated_pa                   282\n",
      "fielders_choice_out            262\n",
      "strikeout_double_play           96\n",
      "catcher_interf                  83\n",
      "sac_fly_double_play             10\n",
      "triple_play                      2\n",
      "Name: count, dtype: int64\n"
     ]
    }
   ],
   "source": [
    "# Fielder's choice is subdivided into ground out, line out, fly out, and pop out.\n",
    "fc_rows = data['events'] == 'fielders_choice'\n",
    "\n",
    "data.loc[fc_rows & (data['bb_type'] == 'ground_ball'), 'events'] = 'ground_out'\n",
    "data.loc[fc_rows & (data['bb_type'] == 'line_drive'), 'events'] = 'line_out'\n",
    "data.loc[fc_rows & (data['bb_type'] == 'fly_ball'), 'events'] = 'fly_out'\n",
    "data.loc[fc_rows & (data['bb_type'] == 'popup'), 'events'] = 'pop_out'\n",
    "\n",
    "print(data['events'].value_counts())"
   ]
  },
  {
   "cell_type": "code",
   "execution_count": null,
   "metadata": {},
   "outputs": [
    {
     "name": "stdout",
     "output_type": "stream",
     "text": [
      "events\n",
      "strikeout                    35662\n",
      "ground_out                   30255\n",
      "single                       22249\n",
      "fly_out                      20190\n",
      "walk                         12305\n",
      "line_out                      8966\n",
      "pop_out                       7370\n",
      "double                        6736\n",
      "home_run                      4676\n",
      "grounded_into_double_play     2784\n",
      "hit_by_pitch                  1759\n",
      "sac_fly                       1066\n",
      "field_error                    945\n",
      "triple                         594\n",
      "sac_bunt                       385\n",
      "double_play                    293\n",
      "truncated_pa                   282\n",
      "strikeout_double_play           96\n",
      "catcher_interf                  83\n",
      "sac_fly_double_play             10\n",
      "triple_play                      2\n",
      "Name: count, dtype: int64\n"
     ]
    }
   ],
   "source": [
    "# Fielder's choice out is subdivided into ground out, line out, fly out, and pop out.\n",
    "fco_rows = data['events'] == 'fielders_choice_out'\n",
    "\n",
    "data.loc[fco_rows & (data['bb_type'] == 'ground_ball'), 'events'] = 'ground_out'\n",
    "data.loc[fco_rows & (data['bb_type'] == 'line_drive'), 'events'] = 'line_out'\n",
    "data.loc[fco_rows & (data['bb_type'] == 'fly_ball'), 'events'] = 'fly_out'\n",
    "data.loc[fco_rows & (data['bb_type'] == 'popup'), 'events'] = 'pop_out'\n",
    "\n",
    "print(data['events'].value_counts())"
   ]
  },
  {
   "cell_type": "code",
   "execution_count": null,
   "metadata": {},
   "outputs": [
    {
     "name": "stdout",
     "output_type": "stream",
     "text": [
      "events\n",
      "strikeout                    35662\n",
      "ground_out                   30255\n",
      "single                       22249\n",
      "fly_out                      20190\n",
      "walk                         12305\n",
      "line_out                      8966\n",
      "pop_out                       7370\n",
      "double                        6736\n",
      "home_run                      4676\n",
      "grounded_into_double_play     2784\n",
      "hit_by_pitch                  1759\n",
      "sac_fly                       1066\n",
      "field_error                    945\n",
      "triple                         594\n",
      "sac_bunt                       385\n",
      "double_play                    293\n",
      "strikeout_double_play           96\n",
      "catcher_interf                  83\n",
      "sac_fly_double_play             10\n",
      "triple_play                      2\n",
      "Name: count, dtype: int64\n"
     ]
    }
   ],
   "source": [
    "# Dropping 'truncated_pa' events\n",
    "data = data[data['events'] != 'truncated_pa']\n",
    "print(data['events'].value_counts())"
   ]
  },
  {
   "cell_type": "code",
   "execution_count": null,
   "metadata": {},
   "outputs": [
    {
     "name": "stdout",
     "output_type": "stream",
     "text": [
      "events\n",
      "strikeout                    35662\n",
      "ground_out                   30255\n",
      "single                       22249\n",
      "fly_out                      20190\n",
      "walk                         12305\n",
      "line_out                      8966\n",
      "pop_out                       7370\n",
      "double                        6736\n",
      "home_run                      4676\n",
      "grounded_into_double_play     2784\n",
      "hit_by_pitch                  1759\n",
      "sac_fly                       1066\n",
      "field_error                    945\n",
      "triple                         594\n",
      "sac_bunt                       385\n",
      "double_play                    293\n",
      "strikeout_double_play           96\n",
      "catcher_interf                  83\n",
      "sac_fly_double_play             10\n",
      "Name: count, dtype: int64\n"
     ]
    }
   ],
   "source": [
    "# Dropping 'triple_play' events\n",
    "data = data[data['events'] != 'triple_play']\n",
    "print(data['events'].value_counts())"
   ]
  },
  {
   "cell_type": "code",
   "execution_count": null,
   "metadata": {},
   "outputs": [
    {
     "name": "stdout",
     "output_type": "stream",
     "text": [
      "events\n",
      "K                 35662\n",
      "GroundOut         30640\n",
      "Single            22249\n",
      "FlyOut            21256\n",
      "LineOut/InfFly    16336\n",
      "Walk              12305\n",
      "Double             6736\n",
      "HR                 4676\n",
      "DoublePlay         3183\n",
      "HBP/CatInt         1842\n",
      "Error               945\n",
      "Triple              594\n",
      "Name: count, dtype: int64\n"
     ]
    }
   ],
   "source": [
    "# Renaming columns\n",
    "data['events'] = data['events'].replace({'double_play': 'DoublePlay', 'grounded_into_double_play': 'DoublePlay',\n",
    "                                         'sac_fly_double_play': 'DoublePlay', 'strikeout_double_play': 'DoublePlay',\n",
    "                                         'walk': 'Walk', 'hit_by_pitch': 'HBP/CatInt', 'catcher_interf': 'HBP/CatInt',\n",
    "                                         'strikeout': 'K', 'field_error': 'Error', 'single': 'Single',\n",
    "                                         'double': 'Double', 'triple': 'Triple', 'home_run': 'HR',\n",
    "                                         'ground_out': 'GroundOut', 'line_out': 'LineOut/InfFly', 'pop_out': 'LineOut/InfFly',\n",
    "                                         'fly_out': 'FlyOut', 'sac_fly': 'FlyOut', 'triple_play': 'TriplePlay', 'sac_bunt': 'GroundOut'\n",
    "                                         })\n",
    "\n",
    "print(data['events'].value_counts())"
   ]
  },
  {
   "cell_type": "code",
   "execution_count": null,
   "metadata": {},
   "outputs": [
    {
     "name": "stdout",
     "output_type": "stream",
     "text": [
      "events            Double  DoublePlay     Error    FlyOut  GroundOut  \\\n",
      "batter_cluster                                                        \n",
      "1.0             0.041411    0.020457  0.005549  0.138397   0.183452   \n",
      "2.0             0.040886    0.024868  0.006717  0.131055   0.229428   \n",
      "3.0             0.042477    0.022265  0.007636  0.137440   0.199166   \n",
      "4.0             0.042458    0.024676  0.006432  0.125105   0.182655   \n",
      "5.0             0.045325    0.018147  0.005603  0.147516   0.195852   \n",
      "6.0             0.046123    0.016133  0.004355  0.133370   0.175830   \n",
      "7.0             0.040350    0.018568  0.003749  0.143903   0.178004   \n",
      "8.0             0.041146    0.014934  0.005893  0.151072   0.229300   \n",
      "\n",
      "events          HBP/CatInt        HR         K  LineOut/InfFly    Single  \\\n",
      "batter_cluster                                                             \n",
      "1.0               0.014080  0.024598  0.227514        0.107421  0.137568   \n",
      "2.0               0.013241  0.019959  0.202881        0.114003  0.155406   \n",
      "3.0               0.012191  0.028168  0.234520        0.111582  0.154828   \n",
      "4.0               0.012948  0.036909  0.248991        0.104380  0.133807   \n",
      "5.0               0.010119  0.036545  0.227630        0.099933  0.140826   \n",
      "6.0               0.009749  0.038205  0.244470        0.099273  0.126144   \n",
      "7.0               0.010534  0.031601  0.217461        0.092841  0.129441   \n",
      "8.0               0.011277  0.018084  0.176166        0.111450  0.159301   \n",
      "\n",
      "events            Triple      Walk  \n",
      "batter_cluster                      \n",
      "1.0             0.003479  0.096074  \n",
      "2.0             0.002971  0.058584  \n",
      "3.0             0.003272  0.046455  \n",
      "4.0             0.002438  0.079200  \n",
      "5.0             0.005101  0.067403  \n",
      "6.0             0.005790  0.100559  \n",
      "7.0             0.002678  0.130869  \n",
      "8.0             0.005486  0.075891  \n"
     ]
    }
   ],
   "source": [
    "# Caculate event occurrence probabilities vs. RHP by cluster\n",
    "data_rhp = data[data['p_throws'] == 'R']\n",
    "\n",
    "grouped_rhp = data_rhp.groupby('batter_cluster')['events']\n",
    "event_counts_rhp = grouped_rhp.value_counts(normalize=True).unstack(fill_value=0)\n",
    "\n",
    "print(event_counts_rhp)"
   ]
  },
  {
   "cell_type": "code",
   "execution_count": null,
   "metadata": {},
   "outputs": [
    {
     "name": "stdout",
     "output_type": "stream",
     "text": [
      "events            Double  DoublePlay     Error    FlyOut  GroundOut  \\\n",
      "batter_cluster                                                        \n",
      "1.0             0.040474    0.017572  0.008292  0.148667   0.180257   \n",
      "2.0             0.048309    0.023741  0.006073  0.147274   0.210766   \n",
      "3.0             0.047605    0.021800  0.008602  0.147709   0.185674   \n",
      "4.0             0.047553    0.020517  0.006091  0.139667   0.167130   \n",
      "5.0             0.039145    0.015056  0.004818  0.123156   0.220717   \n",
      "6.0             0.039054    0.015236  0.004904  0.110158   0.211559   \n",
      "7.0             0.034272    0.017136  0.005508  0.111383   0.219094   \n",
      "8.0             0.034164    0.020641  0.004982  0.122064   0.256228   \n",
      "\n",
      "events          HBP/CatInt        HR         K  LineOut/InfFly    Single  \\\n",
      "batter_cluster                                                             \n",
      "1.0               0.009279  0.025074  0.212636        0.110563  0.135242   \n",
      "2.0               0.011456  0.024983  0.197930        0.108075  0.149620   \n",
      "3.0               0.009640  0.028474  0.237876        0.103366  0.152603   \n",
      "4.0               0.009724  0.039432  0.237551        0.097457  0.134324   \n",
      "5.0               0.011442  0.024089  0.252635        0.101475  0.151762   \n",
      "6.0               0.014361  0.028371  0.259895        0.087916  0.143783   \n",
      "7.0               0.015912  0.027540  0.223378        0.092411  0.136475   \n",
      "8.0               0.017438  0.011744  0.197865        0.103915  0.162633   \n",
      "\n",
      "events            Triple      Walk  \n",
      "batter_cluster                      \n",
      "1.0             0.003751  0.108193  \n",
      "2.0             0.003865  0.067909  \n",
      "3.0             0.003263  0.053389  \n",
      "4.0             0.002137  0.098418  \n",
      "5.0             0.004216  0.051491  \n",
      "6.0             0.005429  0.079335  \n",
      "7.0             0.002448  0.114443  \n",
      "8.0             0.004270  0.064057  \n"
     ]
    }
   ],
   "source": [
    "# Caculate event occurrence probabilities vs. LHP by cluster\n",
    "data_lhp = data[data['p_throws'] == 'L']\n",
    "\n",
    "grouped_lhp = data_lhp.groupby('batter_cluster')['events']\n",
    "event_counts_lhp = grouped_lhp.value_counts(normalize=True).unstack(fill_value=0)\n",
    "\n",
    "print(event_counts_lhp)"
   ]
  },
  {
   "cell_type": "code",
   "execution_count": 19,
   "metadata": {},
   "outputs": [
    {
     "name": "stdout",
     "output_type": "stream",
     "text": [
      "events            Double  DoublePlay     Error    FlyOut  GroundOut  \\\n",
      "batter_cluster                                                        \n",
      "1.0             0.041411    0.020457  0.005549  0.138397   0.183452   \n",
      "2.0             0.040886    0.024868  0.006717  0.131055   0.229428   \n",
      "3.0             0.042477    0.022265  0.007636  0.137440   0.199166   \n",
      "4.0             0.042458    0.024676  0.006432  0.125105   0.182655   \n",
      "5.0             0.045325    0.018147  0.005603  0.147516   0.195852   \n",
      "\n",
      "events          HBP/CatInt        HR         K  LineOut/InfFly    Single  \\\n",
      "batter_cluster                                                             \n",
      "1.0               0.014080  0.024598  0.227514        0.107421  0.137568   \n",
      "2.0               0.013241  0.019959  0.202881        0.114003  0.155406   \n",
      "3.0               0.012191  0.028168  0.234520        0.111582  0.154828   \n",
      "4.0               0.012948  0.036909  0.248991        0.104380  0.133807   \n",
      "5.0               0.010119  0.036545  0.227630        0.099933  0.140826   \n",
      "\n",
      "events            Triple      Walk  LongSingle  MediumSingle  ShortSingle  \n",
      "batter_cluster                                                             \n",
      "1.0             0.003479  0.096074    0.041270      0.068784     0.027514  \n",
      "2.0             0.002971  0.058584    0.046622      0.077703     0.031081  \n",
      "3.0             0.003272  0.046455    0.046449      0.077414     0.030966  \n",
      "4.0             0.002438  0.079200    0.040142      0.066903     0.026761  \n",
      "5.0             0.005101  0.067403    0.042248      0.070413     0.028165  \n",
      "events            Double  DoublePlay     Error    FlyOut  GroundOut  \\\n",
      "batter_cluster                                                        \n",
      "1.0             0.040474    0.017572  0.008292  0.148667   0.180257   \n",
      "2.0             0.048309    0.023741  0.006073  0.147274   0.210766   \n",
      "3.0             0.047605    0.021800  0.008602  0.147709   0.185674   \n",
      "4.0             0.047553    0.020517  0.006091  0.139667   0.167130   \n",
      "5.0             0.039145    0.015056  0.004818  0.123156   0.220717   \n",
      "\n",
      "events          HBP/CatInt        HR         K  LineOut/InfFly    Single  \\\n",
      "batter_cluster                                                             \n",
      "1.0               0.009279  0.025074  0.212636        0.110563  0.135242   \n",
      "2.0               0.011456  0.024983  0.197930        0.108075  0.149620   \n",
      "3.0               0.009640  0.028474  0.237876        0.103366  0.152603   \n",
      "4.0               0.009724  0.039432  0.237551        0.097457  0.134324   \n",
      "5.0               0.011442  0.024089  0.252635        0.101475  0.151762   \n",
      "\n",
      "events            Triple      Walk  LongSingle  MediumSingle  ShortSingle  \n",
      "batter_cluster                                                             \n",
      "1.0             0.003751  0.108193    0.040573      0.067621     0.027048  \n",
      "2.0             0.003865  0.067909    0.044886      0.074810     0.029924  \n",
      "3.0             0.003263  0.053389    0.045781      0.076301     0.030521  \n",
      "4.0             0.002137  0.098418    0.040297      0.067162     0.026865  \n",
      "5.0             0.004216  0.051491    0.045528      0.075881     0.030352  \n"
     ]
    }
   ],
   "source": [
    "# Single is subdivided into LongSingle, MediumSingle, ShortSingle by certain probabilities\n",
    "event_counts_rhp['LongSingle'] = event_counts_rhp['Single'] * 0.3\n",
    "event_counts_lhp['LongSingle'] = event_counts_lhp['Single'] * 0.3\n",
    "\n",
    "event_counts_rhp['MediumSingle'] = event_counts_rhp['Single'] * 0.5\n",
    "event_counts_lhp['MediumSingle'] = event_counts_lhp['Single'] * 0.5\n",
    "\n",
    "event_counts_rhp['ShortSingle'] = event_counts_rhp['Single'] * 0.2\n",
    "event_counts_lhp['ShortSingle'] = event_counts_lhp['Single'] * 0.2\n",
    "\n",
    "print(event_counts_rhp.head())\n",
    "print(event_counts_lhp.head())"
   ]
  },
  {
   "cell_type": "code",
   "execution_count": 20,
   "metadata": {},
   "outputs": [
    {
     "name": "stdout",
     "output_type": "stream",
     "text": [
      "events            Double  DoublePlay     Error    FlyOut  GroundOut  \\\n",
      "batter_cluster                                                        \n",
      "1.0             0.041411    0.020457  0.005549  0.138397   0.183452   \n",
      "2.0             0.040886    0.024868  0.006717  0.131055   0.229428   \n",
      "3.0             0.042477    0.022265  0.007636  0.137440   0.199166   \n",
      "4.0             0.042458    0.024676  0.006432  0.125105   0.182655   \n",
      "5.0             0.045325    0.018147  0.005603  0.147516   0.195852   \n",
      "\n",
      "events          HBP/CatInt        HR         K  LineOut/InfFly    Single  \\\n",
      "batter_cluster                                                             \n",
      "1.0               0.014080  0.024598  0.227514        0.107421  0.137568   \n",
      "2.0               0.013241  0.019959  0.202881        0.114003  0.155406   \n",
      "3.0               0.012191  0.028168  0.234520        0.111582  0.154828   \n",
      "4.0               0.012948  0.036909  0.248991        0.104380  0.133807   \n",
      "5.0               0.010119  0.036545  0.227630        0.099933  0.140826   \n",
      "\n",
      "events            Triple      Walk  LongSingle  MediumSingle  ShortSingle  \\\n",
      "batter_cluster                                                              \n",
      "1.0             0.003479  0.096074    0.041270      0.068784     0.027514   \n",
      "2.0             0.002971  0.058584    0.046622      0.077703     0.031081   \n",
      "3.0             0.003272  0.046455    0.046449      0.077414     0.030966   \n",
      "4.0             0.002438  0.079200    0.040142      0.066903     0.026761   \n",
      "5.0             0.005101  0.067403    0.042248      0.070413     0.028165   \n",
      "\n",
      "events          ShortDouble  LongDouble  \n",
      "batter_cluster                           \n",
      "1.0                0.033129    0.008282  \n",
      "2.0                0.032709    0.008177  \n",
      "3.0                0.033981    0.008495  \n",
      "4.0                0.033967    0.008492  \n",
      "5.0                0.036260    0.009065  \n",
      "events            Double  DoublePlay     Error    FlyOut  GroundOut  \\\n",
      "batter_cluster                                                        \n",
      "1.0             0.040474    0.017572  0.008292  0.148667   0.180257   \n",
      "2.0             0.048309    0.023741  0.006073  0.147274   0.210766   \n",
      "3.0             0.047605    0.021800  0.008602  0.147709   0.185674   \n",
      "4.0             0.047553    0.020517  0.006091  0.139667   0.167130   \n",
      "5.0             0.039145    0.015056  0.004818  0.123156   0.220717   \n",
      "\n",
      "events          HBP/CatInt        HR         K  LineOut/InfFly    Single  \\\n",
      "batter_cluster                                                             \n",
      "1.0               0.009279  0.025074  0.212636        0.110563  0.135242   \n",
      "2.0               0.011456  0.024983  0.197930        0.108075  0.149620   \n",
      "3.0               0.009640  0.028474  0.237876        0.103366  0.152603   \n",
      "4.0               0.009724  0.039432  0.237551        0.097457  0.134324   \n",
      "5.0               0.011442  0.024089  0.252635        0.101475  0.151762   \n",
      "\n",
      "events            Triple      Walk  LongSingle  MediumSingle  ShortSingle  \\\n",
      "batter_cluster                                                              \n",
      "1.0             0.003751  0.108193    0.040573      0.067621     0.027048   \n",
      "2.0             0.003865  0.067909    0.044886      0.074810     0.029924   \n",
      "3.0             0.003263  0.053389    0.045781      0.076301     0.030521   \n",
      "4.0             0.002137  0.098418    0.040297      0.067162     0.026865   \n",
      "5.0             0.004216  0.051491    0.045528      0.075881     0.030352   \n",
      "\n",
      "events          ShortDouble  LongDouble  \n",
      "batter_cluster                           \n",
      "1.0                0.032379    0.008095  \n",
      "2.0                0.038647    0.009662  \n",
      "3.0                0.038084    0.009521  \n",
      "4.0                0.038042    0.009511  \n",
      "5.0                0.031316    0.007829  \n"
     ]
    }
   ],
   "source": [
    "# Double is subdivided into LongDouble, ShortDouble by certain probabilities\n",
    "event_counts_rhp['ShortDouble'] = event_counts_rhp['Double'] * 0.8\n",
    "event_counts_lhp['ShortDouble'] = event_counts_lhp['Double'] * 0.8\n",
    "\n",
    "event_counts_rhp['LongDouble'] = event_counts_rhp['Double'] * 0.2\n",
    "event_counts_lhp['LongDouble'] = event_counts_lhp['Double'] * 0.2\n",
    "\n",
    "print(event_counts_rhp.head())\n",
    "print(event_counts_lhp.head())"
   ]
  },
  {
   "cell_type": "code",
   "execution_count": 21,
   "metadata": {},
   "outputs": [
    {
     "name": "stdout",
     "output_type": "stream",
     "text": [
      "events            Double  DoublePlay     Error    FlyOut  GroundOut  \\\n",
      "batter_cluster                                                        \n",
      "1.0             0.041411    0.020457  0.005549  0.138397   0.183452   \n",
      "2.0             0.040886    0.024868  0.006717  0.131055   0.229428   \n",
      "3.0             0.042477    0.022265  0.007636  0.137440   0.199166   \n",
      "4.0             0.042458    0.024676  0.006432  0.125105   0.182655   \n",
      "5.0             0.045325    0.018147  0.005603  0.147516   0.195852   \n",
      "\n",
      "events          HBP/CatInt        HR         K  LineOut/InfFly    Single  \\\n",
      "batter_cluster                                                             \n",
      "1.0               0.014080  0.024598  0.227514        0.107421  0.137568   \n",
      "2.0               0.013241  0.019959  0.202881        0.114003  0.155406   \n",
      "3.0               0.012191  0.028168  0.234520        0.111582  0.154828   \n",
      "4.0               0.012948  0.036909  0.248991        0.104380  0.133807   \n",
      "5.0               0.010119  0.036545  0.227630        0.099933  0.140826   \n",
      "\n",
      "events            Triple      Walk  LongSingle  MediumSingle  ShortSingle  \\\n",
      "batter_cluster                                                              \n",
      "1.0             0.003479  0.096074    0.041270      0.068784     0.027514   \n",
      "2.0             0.002971  0.058584    0.046622      0.077703     0.031081   \n",
      "3.0             0.003272  0.046455    0.046449      0.077414     0.030966   \n",
      "4.0             0.002438  0.079200    0.040142      0.066903     0.026761   \n",
      "5.0             0.005101  0.067403    0.042248      0.070413     0.028165   \n",
      "\n",
      "events          ShortDouble  LongDouble   LongFly  MediumFly  ShortFly  \n",
      "batter_cluster                                                          \n",
      "1.0                0.033129    0.008282  0.027679   0.069198  0.041519  \n",
      "2.0                0.032709    0.008177  0.026211   0.065528  0.039317  \n",
      "3.0                0.033981    0.008495  0.027488   0.068720  0.041232  \n",
      "4.0                0.033967    0.008492  0.025021   0.062553  0.037532  \n",
      "5.0                0.036260    0.009065  0.029503   0.073758  0.044255  \n",
      "events            Double  DoublePlay     Error    FlyOut  GroundOut  \\\n",
      "batter_cluster                                                        \n",
      "1.0             0.040474    0.017572  0.008292  0.148667   0.180257   \n",
      "2.0             0.048309    0.023741  0.006073  0.147274   0.210766   \n",
      "3.0             0.047605    0.021800  0.008602  0.147709   0.185674   \n",
      "4.0             0.047553    0.020517  0.006091  0.139667   0.167130   \n",
      "5.0             0.039145    0.015056  0.004818  0.123156   0.220717   \n",
      "\n",
      "events          HBP/CatInt        HR         K  LineOut/InfFly    Single  \\\n",
      "batter_cluster                                                             \n",
      "1.0               0.009279  0.025074  0.212636        0.110563  0.135242   \n",
      "2.0               0.011456  0.024983  0.197930        0.108075  0.149620   \n",
      "3.0               0.009640  0.028474  0.237876        0.103366  0.152603   \n",
      "4.0               0.009724  0.039432  0.237551        0.097457  0.134324   \n",
      "5.0               0.011442  0.024089  0.252635        0.101475  0.151762   \n",
      "\n",
      "events            Triple      Walk  LongSingle  MediumSingle  ShortSingle  \\\n",
      "batter_cluster                                                              \n",
      "1.0             0.003751  0.108193    0.040573      0.067621     0.027048   \n",
      "2.0             0.003865  0.067909    0.044886      0.074810     0.029924   \n",
      "3.0             0.003263  0.053389    0.045781      0.076301     0.030521   \n",
      "4.0             0.002137  0.098418    0.040297      0.067162     0.026865   \n",
      "5.0             0.004216  0.051491    0.045528      0.075881     0.030352   \n",
      "\n",
      "events          ShortDouble  LongDouble   LongFly  MediumFly  ShortFly  \n",
      "batter_cluster                                                          \n",
      "1.0                0.032379    0.008095  0.029733   0.074334  0.044600  \n",
      "2.0                0.038647    0.009662  0.029455   0.073637  0.044182  \n",
      "3.0                0.038084    0.009521  0.029542   0.073854  0.044313  \n",
      "4.0                0.038042    0.009511  0.027933   0.069833  0.041900  \n",
      "5.0                0.031316    0.007829  0.024631   0.061578  0.036947  \n"
     ]
    }
   ],
   "source": [
    "# FlyOut is subdivided into LongFly, MediumFlye, ShortFly by certain probabilities\n",
    "event_counts_rhp['LongFly'] = event_counts_rhp['FlyOut'] * 0.2\n",
    "event_counts_lhp['LongFly'] = event_counts_lhp['FlyOut'] * 0.2\n",
    "\n",
    "event_counts_rhp['MediumFly'] = event_counts_rhp['FlyOut'] * 0.5\n",
    "event_counts_lhp['MediumFly'] = event_counts_lhp['FlyOut'] * 0.5\n",
    "\n",
    "event_counts_rhp['ShortFly'] = event_counts_rhp['FlyOut'] * 0.3\n",
    "event_counts_lhp['ShortFly'] = event_counts_lhp['FlyOut'] * 0.3\n",
    "\n",
    "print(event_counts_rhp.head())\n",
    "print(event_counts_lhp.head())"
   ]
  },
  {
   "cell_type": "code",
   "execution_count": 22,
   "metadata": {},
   "outputs": [
    {
     "name": "stdout",
     "output_type": "stream",
     "text": [
      "events          DoublePlay     Error  GroundOut  HBP/CatInt        HR  \\\n",
      "batter_cluster                                                          \n",
      "1.0               0.020457  0.005549   0.183452    0.014080  0.024598   \n",
      "2.0               0.024868  0.006717   0.229428    0.013241  0.019959   \n",
      "3.0               0.022265  0.007636   0.199166    0.012191  0.028168   \n",
      "4.0               0.024676  0.006432   0.182655    0.012948  0.036909   \n",
      "5.0               0.018147  0.005603   0.195852    0.010119  0.036545   \n",
      "6.0               0.016133  0.004355   0.175830    0.009749  0.038205   \n",
      "7.0               0.018568  0.003749   0.178004    0.010534  0.031601   \n",
      "8.0               0.014934  0.005893   0.229300    0.011277  0.018084   \n",
      "\n",
      "events                 K  LineOut/InfFly    Triple      Walk  LongSingle  \\\n",
      "batter_cluster                                                             \n",
      "1.0             0.227514        0.107421  0.003479  0.096074    0.041270   \n",
      "2.0             0.202881        0.114003  0.002971  0.058584    0.046622   \n",
      "3.0             0.234520        0.111582  0.003272  0.046455    0.046449   \n",
      "4.0             0.248991        0.104380  0.002438  0.079200    0.040142   \n",
      "5.0             0.227630        0.099933  0.005101  0.067403    0.042248   \n",
      "6.0             0.244470        0.099273  0.005790  0.100559    0.037843   \n",
      "7.0             0.217461        0.092841  0.002678  0.130869    0.038832   \n",
      "8.0             0.176166        0.111450  0.005486  0.075891    0.047790   \n",
      "\n",
      "events          MediumSingle  ShortSingle  ShortDouble  LongDouble   LongFly  \\\n",
      "batter_cluster                                                                 \n",
      "1.0                 0.068784     0.027514     0.033129    0.008282  0.027679   \n",
      "2.0                 0.077703     0.031081     0.032709    0.008177  0.026211   \n",
      "3.0                 0.077414     0.030966     0.033981    0.008495  0.027488   \n",
      "4.0                 0.066903     0.026761     0.033967    0.008492  0.025021   \n",
      "5.0                 0.070413     0.028165     0.036260    0.009065  0.029503   \n",
      "6.0                 0.063072     0.025229     0.036898    0.009225  0.026674   \n",
      "7.0                 0.064721     0.025888     0.032280    0.008070  0.028781   \n",
      "8.0                 0.079651     0.031860     0.032917    0.008229  0.030214   \n",
      "\n",
      "events          MediumFly  ShortFly  \n",
      "batter_cluster                       \n",
      "1.0              0.069198  0.041519  \n",
      "2.0              0.065528  0.039317  \n",
      "3.0              0.068720  0.041232  \n",
      "4.0              0.062553  0.037532  \n",
      "5.0              0.073758  0.044255  \n",
      "6.0              0.066685  0.040011  \n",
      "7.0              0.071951  0.043171  \n",
      "8.0              0.075536  0.045322  \n",
      "events          DoublePlay     Error  GroundOut  HBP/CatInt        HR  \\\n",
      "batter_cluster                                                          \n",
      "1.0               0.017572  0.008292   0.180257    0.009279  0.025074   \n",
      "2.0               0.023741  0.006073   0.210766    0.011456  0.024983   \n",
      "3.0               0.021800  0.008602   0.185674    0.009640  0.028474   \n",
      "4.0               0.020517  0.006091   0.167130    0.009724  0.039432   \n",
      "5.0               0.015056  0.004818   0.220717    0.011442  0.024089   \n",
      "6.0               0.015236  0.004904   0.211559    0.014361  0.028371   \n",
      "7.0               0.017136  0.005508   0.219094    0.015912  0.027540   \n",
      "8.0               0.020641  0.004982   0.256228    0.017438  0.011744   \n",
      "\n",
      "events                 K  LineOut/InfFly    Triple      Walk  LongSingle  \\\n",
      "batter_cluster                                                             \n",
      "1.0             0.212636        0.110563  0.003751  0.108193    0.040573   \n",
      "2.0             0.197930        0.108075  0.003865  0.067909    0.044886   \n",
      "3.0             0.237876        0.103366  0.003263  0.053389    0.045781   \n",
      "4.0             0.237551        0.097457  0.002137  0.098418    0.040297   \n",
      "5.0             0.252635        0.101475  0.004216  0.051491    0.045528   \n",
      "6.0             0.259895        0.087916  0.005429  0.079335    0.043135   \n",
      "7.0             0.223378        0.092411  0.002448  0.114443    0.040942   \n",
      "8.0             0.197865        0.103915  0.004270  0.064057    0.048790   \n",
      "\n",
      "events          MediumSingle  ShortSingle  ShortDouble  LongDouble   LongFly  \\\n",
      "batter_cluster                                                                 \n",
      "1.0                 0.067621     0.027048     0.032379    0.008095  0.029733   \n",
      "2.0                 0.074810     0.029924     0.038647    0.009662  0.029455   \n",
      "3.0                 0.076301     0.030521     0.038084    0.009521  0.029542   \n",
      "4.0                 0.067162     0.026865     0.038042    0.009511  0.027933   \n",
      "5.0                 0.075881     0.030352     0.031316    0.007829  0.024631   \n",
      "6.0                 0.071891     0.028757     0.031243    0.007811  0.022032   \n",
      "7.0                 0.068237     0.027295     0.027417    0.006854  0.022277   \n",
      "8.0                 0.081317     0.032527     0.027331    0.006833  0.024413   \n",
      "\n",
      "events          MediumFly  ShortFly  \n",
      "batter_cluster                       \n",
      "1.0              0.074334  0.044600  \n",
      "2.0              0.073637  0.044182  \n",
      "3.0              0.073854  0.044313  \n",
      "4.0              0.069833  0.041900  \n",
      "5.0              0.061578  0.036947  \n",
      "6.0              0.055079  0.033047  \n",
      "7.0              0.055692  0.033415  \n",
      "8.0              0.061032  0.036619  \n"
     ]
    }
   ],
   "source": [
    "# Drop original 'Single', 'Double', 'Flyout'\n",
    "event_counts_rhp = event_counts_rhp.drop(columns=['Single', 'Double', 'FlyOut'])\n",
    "event_counts_lhp = event_counts_lhp.drop(columns=['Single', 'Double', 'FlyOut'])\n",
    "\n",
    "print(event_counts_rhp)\n",
    "print(event_counts_lhp)"
   ]
  },
  {
   "cell_type": "code",
   "execution_count": 23,
   "metadata": {},
   "outputs": [],
   "source": [
    "# Output batting probablility matrix vs. RHP\n",
    "output_path = BASE_DIR / \"data\" / \"batstatmat_v_rhp.csv\"\n",
    "\n",
    "event_counts_rhp.to_csv(output_path)"
   ]
  },
  {
   "cell_type": "code",
   "execution_count": 24,
   "metadata": {},
   "outputs": [],
   "source": [
    "# Output batting probablility matrix vs. LHP\n",
    "output_path = BASE_DIR / \"data\" / \"batstatmat_v_lhp.csv\"\n",
    "\n",
    "event_counts_lhp.to_csv(output_path)"
   ]
  }
 ],
 "metadata": {
  "kernelspec": {
   "display_name": "Python 3",
   "language": "python",
   "name": "python3"
  },
  "language_info": {
   "codemirror_mode": {
    "name": "ipython",
    "version": 3
   },
   "file_extension": ".py",
   "mimetype": "text/x-python",
   "name": "python",
   "nbconvert_exporter": "python",
   "pygments_lexer": "ipython3",
   "version": "3.9.6"
  }
 },
 "nbformat": 4,
 "nbformat_minor": 2
}
