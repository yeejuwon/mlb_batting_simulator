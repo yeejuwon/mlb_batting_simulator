{
 "cells": [
  {
   "cell_type": "markdown",
   "metadata": {},
   "source": [
    "# Importing Dataset"
   ]
  },
  {
   "cell_type": "code",
   "execution_count": 1,
   "metadata": {},
   "outputs": [],
   "source": [
    "# Specify relative paths\n",
    "from pathlib import Path\n",
    "\n",
    "BASE_DIR = Path.cwd()\n",
    "data_path = BASE_DIR / \"data\" / \"statcast_pitch_swing_data_20240402_20241030_with_arm_angle.csv\""
   ]
  },
  {
   "cell_type": "code",
   "execution_count": 2,
   "metadata": {},
   "outputs": [
    {
     "name": "stdout",
     "output_type": "stream",
     "text": [
      "  pitch_type   game_date  release_speed  release_pos_x  release_pos_z  \\\n",
      "0         FF  2024-04-02           95.0          -2.01           5.22   \n",
      "1         CH  2024-04-02           88.5          -2.09           4.95   \n",
      "2         SI  2024-04-02           95.0          -2.02           5.12   \n",
      "3         KC  2024-04-02           80.8          -3.13           5.61   \n",
      "4         FF  2024-04-02           95.4          -1.95           5.12   \n",
      "\n",
      "       player_name  batter  pitcher     events    description  ...  \\\n",
      "0  Rocchio, Brayan  677587   622491     single  hit_into_play  ...   \n",
      "1  Rocchio, Brayan  677587   622491        NaN           foul  ...   \n",
      "2  Rocchio, Brayan  677587   622491        NaN  called_strike  ...   \n",
      "3   Rizzo, Anthony  519203   668678  field_out  hit_into_play  ...   \n",
      "4   Hedges, Austin  595978   622491  strikeout       foul_tip  ...   \n",
      "\n",
      "   n_thruorder_pitcher  n_priorpa_thisgame_player_at_bat  \\\n",
      "0                    3                                 2   \n",
      "1                    3                                 2   \n",
      "2                    3                                 2   \n",
      "3                    3                                 2   \n",
      "4                    3                                 2   \n",
      "\n",
      "   pitcher_days_since_prev_game  batter_days_since_prev_game  \\\n",
      "0                           5.0                          1.0   \n",
      "1                           5.0                          1.0   \n",
      "2                           5.0                          1.0   \n",
      "3                           5.0                          1.0   \n",
      "4                           5.0                          3.0   \n",
      "\n",
      "   pitcher_days_until_next_game batter_days_until_next_game  \\\n",
      "0                           6.0                         1.0   \n",
      "1                           6.0                         1.0   \n",
      "2                           6.0                         1.0   \n",
      "3                           6.0                         1.0   \n",
      "4                           6.0                         6.0   \n",
      "\n",
      "  api_break_z_with_gravity api_break_x_arm api_break_x_batter_in arm_angle  \n",
      "0                     1.32            0.85                 -0.85      19.4  \n",
      "1                     2.82            1.40                 -1.40      14.4  \n",
      "2                     2.37            1.48                 -1.48      21.9  \n",
      "3                     4.61           -0.50                  0.50      36.3  \n",
      "4                     1.59            1.08                  1.08      17.5  \n",
      "\n",
      "[5 rows x 113 columns]\n"
     ]
    }
   ],
   "source": [
    "# Import Dataset\n",
    "import pandas as pd\n",
    "\n",
    "data = pd.read_csv(data_path)\n",
    "print(data.head())"
   ]
  },
  {
   "cell_type": "markdown",
   "metadata": {},
   "source": [
    "# EDA for Switch Hitters\n",
    ": Searching for significant differences based on switch hitters' stance."
   ]
  },
  {
   "cell_type": "code",
   "execution_count": 3,
   "metadata": {},
   "outputs": [
    {
     "name": "stdout",
     "output_type": "stream",
     "text": [
      "          player_name  unique_stand_count\n",
      "9     Adrianza, Ehire                   2\n",
      "11      Albies, Ozzie                   2\n",
      "23      Amador, Adael                   2\n",
      "39    Bailey, Patrick                   2\n",
      "42    Baldwin, Brooks                   2\n",
      "..                ...                 ...\n",
      "575     Toro, Abraham                   2\n",
      "585      Tucker, Cole                   2\n",
      "594  Vargas, Ildemaro                   2\n",
      "617     Walls, Taylor                   2\n",
      "621      Waters, Drew                   2\n",
      "\n",
      "[66 rows x 2 columns]\n"
     ]
    }
   ],
   "source": [
    "# Finding Switch Hitters\n",
    "stand_unique_count = data.groupby('player_name')['stand'].nunique().reset_index(name='unique_stand_count')\n",
    "print(stand_unique_count[stand_unique_count['unique_stand_count']==2])"
   ]
  },
  {
   "cell_type": "code",
   "execution_count": 4,
   "metadata": {},
   "outputs": [
    {
     "name": "stdout",
     "output_type": "stream",
     "text": [
      "          player_name stand  swing_length  bat_speed  launch_angle  \\\n",
      "0     Adrianza, Ehire     L      6.953125  62.709375      6.647059   \n",
      "1     Adrianza, Ehire     R      6.468750  61.843750     21.000000   \n",
      "2       Albies, Ozzie     L      7.329500  67.403167     21.044681   \n",
      "3       Albies, Ozzie     R      6.841923  67.388846     17.189815   \n",
      "4       Amador, Adael     L      7.220000  68.676364     19.093023   \n",
      "..                ...   ...           ...        ...           ...   \n",
      "127  Vargas, Ildemaro     R      7.107527  68.750000     11.325153   \n",
      "128     Walls, Taylor     L      6.983862  64.958501     22.122530   \n",
      "129     Walls, Taylor     R      7.254206  64.771028     17.438356   \n",
      "130      Waters, Drew     L      6.767500  72.795000     11.640000   \n",
      "131      Waters, Drew     R      6.600000  64.475000     10.000000   \n",
      "\n",
      "     launch_speed  \n",
      "0       79.747059  \n",
      "1       85.972727  \n",
      "2       82.058422  \n",
      "3       84.451389  \n",
      "4       82.825581  \n",
      "..            ...  \n",
      "127     85.006748  \n",
      "128     81.543083  \n",
      "129     78.063014  \n",
      "130     83.396000  \n",
      "131     75.500000  \n",
      "\n",
      "[132 rows x 6 columns]\n"
     ]
    }
   ],
   "source": [
    "# Filtering Switch Hitters\n",
    "players_with_both_stands = data.groupby('player_name')['stand'].nunique()\n",
    "players_with_both_stands = players_with_both_stands[players_with_both_stands == 2].index\n",
    "\n",
    "# Calculate the average swing_length and bat_speed for filtered players with 'L' and 'R'\n",
    "stand_comparison = data[data['player_name'].isin(players_with_both_stands)]\n",
    "stand_comparison = stand_comparison.groupby(['player_name', 'stand'])[['swing_length', 'bat_speed', 'launch_angle', 'launch_speed']].mean().reset_index()\n",
    "\n",
    "# Print Result\n",
    "print(stand_comparison)"
   ]
  },
  {
   "cell_type": "code",
   "execution_count": 6,
   "metadata": {},
   "outputs": [
    {
     "name": "stdout",
     "output_type": "stream",
     "text": [
      "                player_name stand\n",
      "0         Rocchio, Brayan-L     L\n",
      "20           Hicks, Aaron-R     R\n",
      "134           Heim, Jonah-L     L\n",
      "172     Profar, Jurickson-L     L\n",
      "244         Albies, Ozzie-R     R\n",
      "...                     ...   ...\n",
      "574882     Clement, Ernie-L     L\n",
      "603752     Collins, Isaac-R     R\n",
      "616864     Collins, Isaac-L     L\n",
      "633847   Campero, Gustavo-L     L\n",
      "633999   Campero, Gustavo-R     R\n",
      "\n",
      "[132 rows x 2 columns]\n"
     ]
    }
   ],
   "source": [
    "# Filtering Switch Hitters\n",
    "players_with_both_stands = data.groupby('player_name')['stand'].nunique()\n",
    "players_with_both_stands = players_with_both_stands[players_with_both_stands == 2].index\n",
    "\n",
    "# Changing names of Switch Hitters\n",
    "data.loc[(data['stand'] == 'L') & (data['player_name'].isin(players_with_both_stands)), 'player_name'] = data.loc[(data['stand'] == 'L') & (data['player_name'].isin(players_with_both_stands)), 'player_name'] + '-L'\n",
    "data.loc[(data['stand'] == 'R') & (data['player_name'].isin(players_with_both_stands)), 'player_name'] = data.loc[(data['stand'] == 'R') & (data['player_name'].isin(players_with_both_stands)), 'player_name'] + '-R'\n",
    "\n",
    "# print results\n",
    "changed_data = data[data['player_name'].str.endswith('-L') | data['player_name'].str.endswith('-R')]\n",
    "print(changed_data[['player_name', 'stand']].drop_duplicates())\n"
   ]
  },
  {
   "cell_type": "code",
   "execution_count": 7,
   "metadata": {},
   "outputs": [
    {
     "name": "stdout",
     "output_type": "stream",
     "text": [
      "  pitch_type   game_date  release_speed  release_pos_x  release_pos_z  \\\n",
      "0         FF  2024-04-02           95.0          -2.01           5.22   \n",
      "1         CH  2024-04-02           88.5          -2.09           4.95   \n",
      "2         SI  2024-04-02           95.0          -2.02           5.12   \n",
      "3         KC  2024-04-02           80.8          -3.13           5.61   \n",
      "4         FF  2024-04-02           95.4          -1.95           5.12   \n",
      "5         SI  2024-04-02           90.7          -1.26           5.13   \n",
      "6         SI  2024-04-02           91.8           1.75           4.89   \n",
      "7         SI  2024-04-02           94.0          -1.90           4.99   \n",
      "8         SI  2024-04-02           89.9          -1.14           5.01   \n",
      "9         FF  2024-04-02           93.4          -3.17           5.63   \n",
      "\n",
      "         player_name  batter  pitcher     events    description  ...  \\\n",
      "0  Rocchio, Brayan-L  677587   622491     single  hit_into_play  ...   \n",
      "1  Rocchio, Brayan-L  677587   622491        NaN           foul  ...   \n",
      "2  Rocchio, Brayan-L  677587   622491        NaN  called_strike  ...   \n",
      "3     Rizzo, Anthony  519203   668678  field_out  hit_into_play  ...   \n",
      "4     Hedges, Austin  595978   622491  strikeout       foul_tip  ...   \n",
      "5     Ohtani, Shohei  660271   657277       walk           ball  ...   \n",
      "6     Casas, Triston  671213   622072       walk           ball  ...   \n",
      "7     Hedges, Austin  595978   622491        NaN  called_strike  ...   \n",
      "8     Ohtani, Shohei  660271   657277        NaN           ball  ...   \n",
      "9     Rizzo, Anthony  519203   668678        NaN           ball  ...   \n",
      "\n",
      "   n_thruorder_pitcher  n_priorpa_thisgame_player_at_bat  \\\n",
      "0                    3                                 2   \n",
      "1                    3                                 2   \n",
      "2                    3                                 2   \n",
      "3                    3                                 2   \n",
      "4                    3                                 2   \n",
      "5                    3                                 2   \n",
      "6                    3                                 2   \n",
      "7                    3                                 2   \n",
      "8                    3                                 2   \n",
      "9                    3                                 2   \n",
      "\n",
      "   pitcher_days_since_prev_game  batter_days_since_prev_game  \\\n",
      "0                           5.0                          1.0   \n",
      "1                           5.0                          1.0   \n",
      "2                           5.0                          1.0   \n",
      "3                           5.0                          1.0   \n",
      "4                           5.0                          3.0   \n",
      "5                           5.0                          1.0   \n",
      "6                           5.0                          1.0   \n",
      "7                           5.0                          3.0   \n",
      "8                           5.0                          1.0   \n",
      "9                           5.0                          1.0   \n",
      "\n",
      "   pitcher_days_until_next_game batter_days_until_next_game  \\\n",
      "0                           6.0                         1.0   \n",
      "1                           6.0                         1.0   \n",
      "2                           6.0                         1.0   \n",
      "3                           6.0                         1.0   \n",
      "4                           6.0                         6.0   \n",
      "5                           5.0                         1.0   \n",
      "6                           7.0                         1.0   \n",
      "7                           6.0                         6.0   \n",
      "8                           5.0                         1.0   \n",
      "9                           6.0                         1.0   \n",
      "\n",
      "  api_break_z_with_gravity api_break_x_arm api_break_x_batter_in arm_angle  \n",
      "0                     1.32            0.85                 -0.85      19.4  \n",
      "1                     2.82            1.40                 -1.40      14.4  \n",
      "2                     2.37            1.48                 -1.48      21.9  \n",
      "3                     4.61           -0.50                  0.50      36.3  \n",
      "4                     1.59            1.08                  1.08      17.5  \n",
      "5                     2.71            1.45                 -1.45      27.9  \n",
      "6                     1.71            0.93                  0.93      23.9  \n",
      "7                     2.17            1.60                  1.60      15.0  \n",
      "8                     2.79            1.45                 -1.45      24.9  \n",
      "9                     1.12            0.59                 -0.59      40.0  \n",
      "\n",
      "[10 rows x 113 columns]\n"
     ]
    }
   ],
   "source": [
    "print(data.head(10))"
   ]
  },
  {
   "cell_type": "markdown",
   "metadata": {},
   "source": [
    "# Saving Dataset"
   ]
  },
  {
   "cell_type": "code",
   "execution_count": 8,
   "metadata": {},
   "outputs": [],
   "source": [
    "output_path = BASE_DIR / \"data\" / \"statcast_switch_split.csv\"\n",
    "\n",
    "data.to_csv(output_path, index=False)"
   ]
  }
 ],
 "metadata": {
  "kernelspec": {
   "display_name": "Python 3",
   "language": "python",
   "name": "python3"
  },
  "language_info": {
   "codemirror_mode": {
    "name": "ipython",
    "version": 3
   },
   "file_extension": ".py",
   "mimetype": "text/x-python",
   "name": "python",
   "nbconvert_exporter": "python",
   "pygments_lexer": "ipython3",
   "version": "3.9.6"
  }
 },
 "nbformat": 4,
 "nbformat_minor": 2
}
